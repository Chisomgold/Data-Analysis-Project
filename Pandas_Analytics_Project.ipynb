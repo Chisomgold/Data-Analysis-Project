{
 "cells": [
  {
   "cell_type": "markdown",
   "metadata": {},
   "source": [
    "# Analysis of Supermarket Data\n",
    "\n",
    "## Step 1\n",
    "\n",
    "#### Importing libraries to be used"
   ]
  },
  {
   "cell_type": "code",
   "execution_count": 24,
   "metadata": {},
   "outputs": [],
   "source": [
    "import os\n",
    "import glob\n",
    "import pandas as pd\n",
    "import numpy as np\n",
    "import datetime as dt\n",
    "import seaborn as sns\n",
    "import matplotlib.pyplot as plt\n",
    "%matplotlib inline\n",
    "plt.style.use('fivethirtyeight')\n",
    "import warnings\n",
    "warnings.filterwarnings('ignore')"
   ]
  },
  {
   "cell_type": "markdown",
   "metadata": {},
   "source": [
    "#### Pattern matching using the glob method"
   ]
  },
  {
   "cell_type": "code",
   "execution_count": 2,
   "metadata": {},
   "outputs": [],
   "source": [
    "files = glob.glob('*.csv')"
   ]
  },
  {
   "cell_type": "markdown",
   "metadata": {},
   "source": [
    "#### Combining all csv files in the folder"
   ]
  },
  {
   "cell_type": "code",
   "execution_count": 3,
   "metadata": {},
   "outputs": [],
   "source": [
    "combined = pd.concat([pd.read_csv(f) for f in files], ignore_index=True)"
   ]
  },
  {
   "cell_type": "code",
   "execution_count": 4,
   "metadata": {},
   "outputs": [
    {
     "data": {
      "text/html": [
       "<div>\n",
       "<style scoped>\n",
       "    .dataframe tbody tr th:only-of-type {\n",
       "        vertical-align: middle;\n",
       "    }\n",
       "\n",
       "    .dataframe tbody tr th {\n",
       "        vertical-align: top;\n",
       "    }\n",
       "\n",
       "    .dataframe thead th {\n",
       "        text-align: right;\n",
       "    }\n",
       "</style>\n",
       "<table border=\"1\" class=\"dataframe\">\n",
       "  <thead>\n",
       "    <tr style=\"text-align: right;\">\n",
       "      <th></th>\n",
       "      <th>Invoice ID</th>\n",
       "      <th>Branch</th>\n",
       "      <th>City</th>\n",
       "      <th>Customer type</th>\n",
       "      <th>Gender</th>\n",
       "      <th>Product line</th>\n",
       "      <th>Unit price</th>\n",
       "      <th>Quantity</th>\n",
       "      <th>Tax 5%</th>\n",
       "      <th>Total</th>\n",
       "      <th>Date</th>\n",
       "      <th>Time</th>\n",
       "      <th>Payment</th>\n",
       "      <th>cogs</th>\n",
       "      <th>gross margin percentage</th>\n",
       "      <th>gross income</th>\n",
       "      <th>Rating</th>\n",
       "    </tr>\n",
       "  </thead>\n",
       "  <tbody>\n",
       "    <tr>\n",
       "      <th>0</th>\n",
       "      <td>692-92-5582</td>\n",
       "      <td>B</td>\n",
       "      <td>Abuja</td>\n",
       "      <td>Member</td>\n",
       "      <td>Female</td>\n",
       "      <td>Food and beverages</td>\n",
       "      <td>19742.4</td>\n",
       "      <td>3</td>\n",
       "      <td>2961.36</td>\n",
       "      <td>62188.56</td>\n",
       "      <td>2/20/2019</td>\n",
       "      <td>13:27</td>\n",
       "      <td>Card</td>\n",
       "      <td>59227.2</td>\n",
       "      <td>4.761905</td>\n",
       "      <td>2961.36</td>\n",
       "      <td>5.9</td>\n",
       "    </tr>\n",
       "    <tr>\n",
       "      <th>1</th>\n",
       "      <td>351-62-0822</td>\n",
       "      <td>B</td>\n",
       "      <td>Abuja</td>\n",
       "      <td>Member</td>\n",
       "      <td>Female</td>\n",
       "      <td>Fashion accessories</td>\n",
       "      <td>5212.8</td>\n",
       "      <td>4</td>\n",
       "      <td>1042.56</td>\n",
       "      <td>21893.76</td>\n",
       "      <td>2/6/2019</td>\n",
       "      <td>18:07</td>\n",
       "      <td>Epay</td>\n",
       "      <td>20851.2</td>\n",
       "      <td>4.761905</td>\n",
       "      <td>1042.56</td>\n",
       "      <td>4.5</td>\n",
       "    </tr>\n",
       "    <tr>\n",
       "      <th>2</th>\n",
       "      <td>529-56-3974</td>\n",
       "      <td>B</td>\n",
       "      <td>Abuja</td>\n",
       "      <td>Member</td>\n",
       "      <td>Male</td>\n",
       "      <td>Electronic accessories</td>\n",
       "      <td>9183.6</td>\n",
       "      <td>4</td>\n",
       "      <td>1836.72</td>\n",
       "      <td>38571.12</td>\n",
       "      <td>3/9/2019</td>\n",
       "      <td>17:03</td>\n",
       "      <td>Cash</td>\n",
       "      <td>36734.4</td>\n",
       "      <td>4.761905</td>\n",
       "      <td>1836.72</td>\n",
       "      <td>6.8</td>\n",
       "    </tr>\n",
       "    <tr>\n",
       "      <th>3</th>\n",
       "      <td>299-46-1805</td>\n",
       "      <td>B</td>\n",
       "      <td>Abuja</td>\n",
       "      <td>Member</td>\n",
       "      <td>Female</td>\n",
       "      <td>Sports and travel</td>\n",
       "      <td>33739.2</td>\n",
       "      <td>6</td>\n",
       "      <td>10121.76</td>\n",
       "      <td>212556.96</td>\n",
       "      <td>1/15/2019</td>\n",
       "      <td>16:19</td>\n",
       "      <td>Cash</td>\n",
       "      <td>202435.2</td>\n",
       "      <td>4.761905</td>\n",
       "      <td>10121.76</td>\n",
       "      <td>4.5</td>\n",
       "    </tr>\n",
       "    <tr>\n",
       "      <th>4</th>\n",
       "      <td>319-50-3348</td>\n",
       "      <td>B</td>\n",
       "      <td>Abuja</td>\n",
       "      <td>Normal</td>\n",
       "      <td>Female</td>\n",
       "      <td>Home and lifestyle</td>\n",
       "      <td>14508.0</td>\n",
       "      <td>2</td>\n",
       "      <td>1450.80</td>\n",
       "      <td>30466.80</td>\n",
       "      <td>3/11/2019</td>\n",
       "      <td>15:30</td>\n",
       "      <td>Epay</td>\n",
       "      <td>29016.0</td>\n",
       "      <td>4.761905</td>\n",
       "      <td>1450.80</td>\n",
       "      <td>4.4</td>\n",
       "    </tr>\n",
       "  </tbody>\n",
       "</table>\n",
       "</div>"
      ],
      "text/plain": [
       "    Invoice ID Branch   City Customer type  Gender            Product line  \\\n",
       "0  692-92-5582      B  Abuja        Member  Female      Food and beverages   \n",
       "1  351-62-0822      B  Abuja        Member  Female     Fashion accessories   \n",
       "2  529-56-3974      B  Abuja        Member    Male  Electronic accessories   \n",
       "3  299-46-1805      B  Abuja        Member  Female       Sports and travel   \n",
       "4  319-50-3348      B  Abuja        Normal  Female      Home and lifestyle   \n",
       "\n",
       "   Unit price  Quantity    Tax 5%      Total       Date   Time Payment  \\\n",
       "0     19742.4         3   2961.36   62188.56  2/20/2019  13:27    Card   \n",
       "1      5212.8         4   1042.56   21893.76   2/6/2019  18:07    Epay   \n",
       "2      9183.6         4   1836.72   38571.12   3/9/2019  17:03    Cash   \n",
       "3     33739.2         6  10121.76  212556.96  1/15/2019  16:19    Cash   \n",
       "4     14508.0         2   1450.80   30466.80  3/11/2019  15:30    Epay   \n",
       "\n",
       "       cogs  gross margin percentage  gross income  Rating  \n",
       "0   59227.2                 4.761905       2961.36     5.9  \n",
       "1   20851.2                 4.761905       1042.56     4.5  \n",
       "2   36734.4                 4.761905       1836.72     6.8  \n",
       "3  202435.2                 4.761905      10121.76     4.5  \n",
       "4   29016.0                 4.761905       1450.80     4.4  "
      ]
     },
     "execution_count": 4,
     "metadata": {},
     "output_type": "execute_result"
    }
   ],
   "source": [
    "combined.head()"
   ]
  },
  {
   "cell_type": "code",
   "execution_count": 5,
   "metadata": {
    "scrolled": true
   },
   "outputs": [
    {
     "data": {
      "text/html": [
       "<div>\n",
       "<style scoped>\n",
       "    .dataframe tbody tr th:only-of-type {\n",
       "        vertical-align: middle;\n",
       "    }\n",
       "\n",
       "    .dataframe tbody tr th {\n",
       "        vertical-align: top;\n",
       "    }\n",
       "\n",
       "    .dataframe thead th {\n",
       "        text-align: right;\n",
       "    }\n",
       "</style>\n",
       "<table border=\"1\" class=\"dataframe\">\n",
       "  <thead>\n",
       "    <tr style=\"text-align: right;\">\n",
       "      <th></th>\n",
       "      <th>Invoice ID</th>\n",
       "      <th>Branch</th>\n",
       "      <th>City</th>\n",
       "      <th>Customer type</th>\n",
       "      <th>Gender</th>\n",
       "      <th>Product line</th>\n",
       "      <th>Unit price</th>\n",
       "      <th>Quantity</th>\n",
       "      <th>Tax 5%</th>\n",
       "      <th>Total</th>\n",
       "      <th>Date</th>\n",
       "      <th>Time</th>\n",
       "      <th>Payment</th>\n",
       "      <th>cogs</th>\n",
       "      <th>gross margin percentage</th>\n",
       "      <th>gross income</th>\n",
       "      <th>Rating</th>\n",
       "    </tr>\n",
       "  </thead>\n",
       "  <tbody>\n",
       "    <tr>\n",
       "      <th>990</th>\n",
       "      <td>867-47-1948</td>\n",
       "      <td>C</td>\n",
       "      <td>Port Harcourt</td>\n",
       "      <td>Normal</td>\n",
       "      <td>Female</td>\n",
       "      <td>Home and lifestyle</td>\n",
       "      <td>5688.0</td>\n",
       "      <td>10</td>\n",
       "      <td>2844.00</td>\n",
       "      <td>59724.00</td>\n",
       "      <td>1/9/2019</td>\n",
       "      <td>12:07</td>\n",
       "      <td>Cash</td>\n",
       "      <td>56880.0</td>\n",
       "      <td>4.761905</td>\n",
       "      <td>2844.00</td>\n",
       "      <td>7.8</td>\n",
       "    </tr>\n",
       "    <tr>\n",
       "      <th>991</th>\n",
       "      <td>256-58-3609</td>\n",
       "      <td>C</td>\n",
       "      <td>Port Harcourt</td>\n",
       "      <td>Member</td>\n",
       "      <td>Male</td>\n",
       "      <td>Fashion accessories</td>\n",
       "      <td>33112.8</td>\n",
       "      <td>1</td>\n",
       "      <td>1655.64</td>\n",
       "      <td>34768.44</td>\n",
       "      <td>3/18/2019</td>\n",
       "      <td>15:29</td>\n",
       "      <td>Cash</td>\n",
       "      <td>33112.8</td>\n",
       "      <td>4.761905</td>\n",
       "      <td>1655.64</td>\n",
       "      <td>9.8</td>\n",
       "    </tr>\n",
       "    <tr>\n",
       "      <th>992</th>\n",
       "      <td>364-34-2972</td>\n",
       "      <td>C</td>\n",
       "      <td>Port Harcourt</td>\n",
       "      <td>Member</td>\n",
       "      <td>Male</td>\n",
       "      <td>Electronic accessories</td>\n",
       "      <td>34855.2</td>\n",
       "      <td>3</td>\n",
       "      <td>5228.28</td>\n",
       "      <td>109793.88</td>\n",
       "      <td>3/30/2019</td>\n",
       "      <td>20:37</td>\n",
       "      <td>Cash</td>\n",
       "      <td>104565.6</td>\n",
       "      <td>4.761905</td>\n",
       "      <td>5228.28</td>\n",
       "      <td>6.7</td>\n",
       "    </tr>\n",
       "    <tr>\n",
       "      <th>993</th>\n",
       "      <td>744-82-9138</td>\n",
       "      <td>C</td>\n",
       "      <td>Port Harcourt</td>\n",
       "      <td>Normal</td>\n",
       "      <td>Male</td>\n",
       "      <td>Fashion accessories</td>\n",
       "      <td>31006.8</td>\n",
       "      <td>2</td>\n",
       "      <td>3100.68</td>\n",
       "      <td>65114.28</td>\n",
       "      <td>2/7/2019</td>\n",
       "      <td>17:59</td>\n",
       "      <td>Cash</td>\n",
       "      <td>62013.6</td>\n",
       "      <td>4.761905</td>\n",
       "      <td>3100.68</td>\n",
       "      <td>8.2</td>\n",
       "    </tr>\n",
       "    <tr>\n",
       "      <th>994</th>\n",
       "      <td>728-47-9078</td>\n",
       "      <td>C</td>\n",
       "      <td>Port Harcourt</td>\n",
       "      <td>Member</td>\n",
       "      <td>Male</td>\n",
       "      <td>Food and beverages</td>\n",
       "      <td>21452.4</td>\n",
       "      <td>4</td>\n",
       "      <td>4290.48</td>\n",
       "      <td>90100.08</td>\n",
       "      <td>1/19/2019</td>\n",
       "      <td>12:46</td>\n",
       "      <td>Cash</td>\n",
       "      <td>85809.6</td>\n",
       "      <td>4.761905</td>\n",
       "      <td>4290.48</td>\n",
       "      <td>9.8</td>\n",
       "    </tr>\n",
       "    <tr>\n",
       "      <th>995</th>\n",
       "      <td>148-41-7930</td>\n",
       "      <td>C</td>\n",
       "      <td>Port Harcourt</td>\n",
       "      <td>Normal</td>\n",
       "      <td>Male</td>\n",
       "      <td>Health and beauty</td>\n",
       "      <td>35985.6</td>\n",
       "      <td>7</td>\n",
       "      <td>12594.96</td>\n",
       "      <td>264494.16</td>\n",
       "      <td>1/23/2019</td>\n",
       "      <td>10:33</td>\n",
       "      <td>Cash</td>\n",
       "      <td>251899.2</td>\n",
       "      <td>4.761905</td>\n",
       "      <td>12594.96</td>\n",
       "      <td>6.1</td>\n",
       "    </tr>\n",
       "    <tr>\n",
       "      <th>996</th>\n",
       "      <td>189-40-5216</td>\n",
       "      <td>C</td>\n",
       "      <td>Port Harcourt</td>\n",
       "      <td>Normal</td>\n",
       "      <td>Male</td>\n",
       "      <td>Electronic accessories</td>\n",
       "      <td>34693.2</td>\n",
       "      <td>7</td>\n",
       "      <td>12142.62</td>\n",
       "      <td>254995.02</td>\n",
       "      <td>1/9/2019</td>\n",
       "      <td>11:40</td>\n",
       "      <td>Cash</td>\n",
       "      <td>242852.4</td>\n",
       "      <td>4.761905</td>\n",
       "      <td>12142.62</td>\n",
       "      <td>6.0</td>\n",
       "    </tr>\n",
       "    <tr>\n",
       "      <th>997</th>\n",
       "      <td>267-62-7380</td>\n",
       "      <td>C</td>\n",
       "      <td>Port Harcourt</td>\n",
       "      <td>Member</td>\n",
       "      <td>Male</td>\n",
       "      <td>Electronic accessories</td>\n",
       "      <td>29642.4</td>\n",
       "      <td>10</td>\n",
       "      <td>14821.20</td>\n",
       "      <td>311245.20</td>\n",
       "      <td>3/29/2019</td>\n",
       "      <td>19:12</td>\n",
       "      <td>Epay</td>\n",
       "      <td>296424.0</td>\n",
       "      <td>4.761905</td>\n",
       "      <td>14821.20</td>\n",
       "      <td>4.3</td>\n",
       "    </tr>\n",
       "    <tr>\n",
       "      <th>998</th>\n",
       "      <td>652-49-6720</td>\n",
       "      <td>C</td>\n",
       "      <td>Port Harcourt</td>\n",
       "      <td>Member</td>\n",
       "      <td>Female</td>\n",
       "      <td>Electronic accessories</td>\n",
       "      <td>21942.0</td>\n",
       "      <td>1</td>\n",
       "      <td>1097.10</td>\n",
       "      <td>23039.10</td>\n",
       "      <td>2/18/2019</td>\n",
       "      <td>11:40</td>\n",
       "      <td>Epay</td>\n",
       "      <td>21942.0</td>\n",
       "      <td>4.761905</td>\n",
       "      <td>1097.10</td>\n",
       "      <td>5.9</td>\n",
       "    </tr>\n",
       "    <tr>\n",
       "      <th>999</th>\n",
       "      <td>233-67-5758</td>\n",
       "      <td>C</td>\n",
       "      <td>Port Harcourt</td>\n",
       "      <td>Normal</td>\n",
       "      <td>Male</td>\n",
       "      <td>Health and beauty</td>\n",
       "      <td>14526.0</td>\n",
       "      <td>1</td>\n",
       "      <td>726.30</td>\n",
       "      <td>15252.30</td>\n",
       "      <td>1/29/2019</td>\n",
       "      <td>13:46</td>\n",
       "      <td>Epay</td>\n",
       "      <td>14526.0</td>\n",
       "      <td>4.761905</td>\n",
       "      <td>726.30</td>\n",
       "      <td>6.2</td>\n",
       "    </tr>\n",
       "  </tbody>\n",
       "</table>\n",
       "</div>"
      ],
      "text/plain": [
       "      Invoice ID Branch           City Customer type  Gender  \\\n",
       "990  867-47-1948      C  Port Harcourt        Normal  Female   \n",
       "991  256-58-3609      C  Port Harcourt        Member    Male   \n",
       "992  364-34-2972      C  Port Harcourt        Member    Male   \n",
       "993  744-82-9138      C  Port Harcourt        Normal    Male   \n",
       "994  728-47-9078      C  Port Harcourt        Member    Male   \n",
       "995  148-41-7930      C  Port Harcourt        Normal    Male   \n",
       "996  189-40-5216      C  Port Harcourt        Normal    Male   \n",
       "997  267-62-7380      C  Port Harcourt        Member    Male   \n",
       "998  652-49-6720      C  Port Harcourt        Member  Female   \n",
       "999  233-67-5758      C  Port Harcourt        Normal    Male   \n",
       "\n",
       "               Product line  Unit price  Quantity    Tax 5%      Total  \\\n",
       "990      Home and lifestyle      5688.0        10   2844.00   59724.00   \n",
       "991     Fashion accessories     33112.8         1   1655.64   34768.44   \n",
       "992  Electronic accessories     34855.2         3   5228.28  109793.88   \n",
       "993     Fashion accessories     31006.8         2   3100.68   65114.28   \n",
       "994      Food and beverages     21452.4         4   4290.48   90100.08   \n",
       "995       Health and beauty     35985.6         7  12594.96  264494.16   \n",
       "996  Electronic accessories     34693.2         7  12142.62  254995.02   \n",
       "997  Electronic accessories     29642.4        10  14821.20  311245.20   \n",
       "998  Electronic accessories     21942.0         1   1097.10   23039.10   \n",
       "999       Health and beauty     14526.0         1    726.30   15252.30   \n",
       "\n",
       "          Date   Time Payment      cogs  gross margin percentage  \\\n",
       "990   1/9/2019  12:07    Cash   56880.0                 4.761905   \n",
       "991  3/18/2019  15:29    Cash   33112.8                 4.761905   \n",
       "992  3/30/2019  20:37    Cash  104565.6                 4.761905   \n",
       "993   2/7/2019  17:59    Cash   62013.6                 4.761905   \n",
       "994  1/19/2019  12:46    Cash   85809.6                 4.761905   \n",
       "995  1/23/2019  10:33    Cash  251899.2                 4.761905   \n",
       "996   1/9/2019  11:40    Cash  242852.4                 4.761905   \n",
       "997  3/29/2019  19:12    Epay  296424.0                 4.761905   \n",
       "998  2/18/2019  11:40    Epay   21942.0                 4.761905   \n",
       "999  1/29/2019  13:46    Epay   14526.0                 4.761905   \n",
       "\n",
       "     gross income  Rating  \n",
       "990       2844.00     7.8  \n",
       "991       1655.64     9.8  \n",
       "992       5228.28     6.7  \n",
       "993       3100.68     8.2  \n",
       "994       4290.48     9.8  \n",
       "995      12594.96     6.1  \n",
       "996      12142.62     6.0  \n",
       "997      14821.20     4.3  \n",
       "998       1097.10     5.9  \n",
       "999        726.30     6.2  "
      ]
     },
     "execution_count": 5,
     "metadata": {},
     "output_type": "execute_result"
    }
   ],
   "source": [
    "combined.tail(10)"
   ]
  },
  {
   "cell_type": "markdown",
   "metadata": {},
   "source": [
    "#### Exporting combined files into one document for easy analysis."
   ]
  },
  {
   "cell_type": "code",
   "execution_count": 11,
   "metadata": {},
   "outputs": [],
   "source": [
    "combined.to_csv('combined_sales_data.csv', index=False)"
   ]
  },
  {
   "cell_type": "markdown",
   "metadata": {},
   "source": [
    "## Step 2: Data Exploration"
   ]
  },
  {
   "cell_type": "code",
   "execution_count": 12,
   "metadata": {},
   "outputs": [],
   "source": [
    "DF = pd.read_csv('combined_Sales_data.csv')"
   ]
  },
  {
   "cell_type": "markdown",
   "metadata": {},
   "source": [
    "#### Observing the first 10 rows of the data."
   ]
  },
  {
   "cell_type": "code",
   "execution_count": 13,
   "metadata": {},
   "outputs": [
    {
     "data": {
      "text/html": [
       "<div>\n",
       "<style scoped>\n",
       "    .dataframe tbody tr th:only-of-type {\n",
       "        vertical-align: middle;\n",
       "    }\n",
       "\n",
       "    .dataframe tbody tr th {\n",
       "        vertical-align: top;\n",
       "    }\n",
       "\n",
       "    .dataframe thead th {\n",
       "        text-align: right;\n",
       "    }\n",
       "</style>\n",
       "<table border=\"1\" class=\"dataframe\">\n",
       "  <thead>\n",
       "    <tr style=\"text-align: right;\">\n",
       "      <th></th>\n",
       "      <th>Invoice ID</th>\n",
       "      <th>Branch</th>\n",
       "      <th>City</th>\n",
       "      <th>Customer type</th>\n",
       "      <th>Gender</th>\n",
       "      <th>Product line</th>\n",
       "      <th>Unit price</th>\n",
       "      <th>Quantity</th>\n",
       "      <th>Tax 5%</th>\n",
       "      <th>Total</th>\n",
       "      <th>Date</th>\n",
       "      <th>Time</th>\n",
       "      <th>Payment</th>\n",
       "      <th>cogs</th>\n",
       "      <th>gross margin percentage</th>\n",
       "      <th>gross income</th>\n",
       "      <th>Rating</th>\n",
       "    </tr>\n",
       "  </thead>\n",
       "  <tbody>\n",
       "    <tr>\n",
       "      <th>0</th>\n",
       "      <td>692-92-5582</td>\n",
       "      <td>B</td>\n",
       "      <td>Abuja</td>\n",
       "      <td>Member</td>\n",
       "      <td>Female</td>\n",
       "      <td>Food and beverages</td>\n",
       "      <td>19742.4</td>\n",
       "      <td>3</td>\n",
       "      <td>2961.36</td>\n",
       "      <td>62188.56</td>\n",
       "      <td>2/20/2019</td>\n",
       "      <td>13:27</td>\n",
       "      <td>Card</td>\n",
       "      <td>59227.2</td>\n",
       "      <td>4.761905</td>\n",
       "      <td>2961.36</td>\n",
       "      <td>5.9</td>\n",
       "    </tr>\n",
       "    <tr>\n",
       "      <th>1</th>\n",
       "      <td>351-62-0822</td>\n",
       "      <td>B</td>\n",
       "      <td>Abuja</td>\n",
       "      <td>Member</td>\n",
       "      <td>Female</td>\n",
       "      <td>Fashion accessories</td>\n",
       "      <td>5212.8</td>\n",
       "      <td>4</td>\n",
       "      <td>1042.56</td>\n",
       "      <td>21893.76</td>\n",
       "      <td>2/6/2019</td>\n",
       "      <td>18:07</td>\n",
       "      <td>Epay</td>\n",
       "      <td>20851.2</td>\n",
       "      <td>4.761905</td>\n",
       "      <td>1042.56</td>\n",
       "      <td>4.5</td>\n",
       "    </tr>\n",
       "    <tr>\n",
       "      <th>2</th>\n",
       "      <td>529-56-3974</td>\n",
       "      <td>B</td>\n",
       "      <td>Abuja</td>\n",
       "      <td>Member</td>\n",
       "      <td>Male</td>\n",
       "      <td>Electronic accessories</td>\n",
       "      <td>9183.6</td>\n",
       "      <td>4</td>\n",
       "      <td>1836.72</td>\n",
       "      <td>38571.12</td>\n",
       "      <td>3/9/2019</td>\n",
       "      <td>17:03</td>\n",
       "      <td>Cash</td>\n",
       "      <td>36734.4</td>\n",
       "      <td>4.761905</td>\n",
       "      <td>1836.72</td>\n",
       "      <td>6.8</td>\n",
       "    </tr>\n",
       "    <tr>\n",
       "      <th>3</th>\n",
       "      <td>299-46-1805</td>\n",
       "      <td>B</td>\n",
       "      <td>Abuja</td>\n",
       "      <td>Member</td>\n",
       "      <td>Female</td>\n",
       "      <td>Sports and travel</td>\n",
       "      <td>33739.2</td>\n",
       "      <td>6</td>\n",
       "      <td>10121.76</td>\n",
       "      <td>212556.96</td>\n",
       "      <td>1/15/2019</td>\n",
       "      <td>16:19</td>\n",
       "      <td>Cash</td>\n",
       "      <td>202435.2</td>\n",
       "      <td>4.761905</td>\n",
       "      <td>10121.76</td>\n",
       "      <td>4.5</td>\n",
       "    </tr>\n",
       "    <tr>\n",
       "      <th>4</th>\n",
       "      <td>319-50-3348</td>\n",
       "      <td>B</td>\n",
       "      <td>Abuja</td>\n",
       "      <td>Normal</td>\n",
       "      <td>Female</td>\n",
       "      <td>Home and lifestyle</td>\n",
       "      <td>14508.0</td>\n",
       "      <td>2</td>\n",
       "      <td>1450.80</td>\n",
       "      <td>30466.80</td>\n",
       "      <td>3/11/2019</td>\n",
       "      <td>15:30</td>\n",
       "      <td>Epay</td>\n",
       "      <td>29016.0</td>\n",
       "      <td>4.761905</td>\n",
       "      <td>1450.80</td>\n",
       "      <td>4.4</td>\n",
       "    </tr>\n",
       "    <tr>\n",
       "      <th>5</th>\n",
       "      <td>371-85-5789</td>\n",
       "      <td>B</td>\n",
       "      <td>Abuja</td>\n",
       "      <td>Normal</td>\n",
       "      <td>Male</td>\n",
       "      <td>Health and beauty</td>\n",
       "      <td>31672.8</td>\n",
       "      <td>3</td>\n",
       "      <td>4750.92</td>\n",
       "      <td>99769.32</td>\n",
       "      <td>3/5/2019</td>\n",
       "      <td>10:40</td>\n",
       "      <td>Epay</td>\n",
       "      <td>95018.4</td>\n",
       "      <td>4.761905</td>\n",
       "      <td>4750.92</td>\n",
       "      <td>5.1</td>\n",
       "    </tr>\n",
       "    <tr>\n",
       "      <th>6</th>\n",
       "      <td>273-16-6619</td>\n",
       "      <td>B</td>\n",
       "      <td>Abuja</td>\n",
       "      <td>Normal</td>\n",
       "      <td>Male</td>\n",
       "      <td>Home and lifestyle</td>\n",
       "      <td>11952.0</td>\n",
       "      <td>2</td>\n",
       "      <td>1195.20</td>\n",
       "      <td>25099.20</td>\n",
       "      <td>3/15/2019</td>\n",
       "      <td>12:20</td>\n",
       "      <td>Card</td>\n",
       "      <td>23904.0</td>\n",
       "      <td>4.761905</td>\n",
       "      <td>1195.20</td>\n",
       "      <td>4.4</td>\n",
       "    </tr>\n",
       "    <tr>\n",
       "      <th>7</th>\n",
       "      <td>649-29-6775</td>\n",
       "      <td>B</td>\n",
       "      <td>Abuja</td>\n",
       "      <td>Normal</td>\n",
       "      <td>Male</td>\n",
       "      <td>Fashion accessories</td>\n",
       "      <td>12067.2</td>\n",
       "      <td>1</td>\n",
       "      <td>603.36</td>\n",
       "      <td>12670.56</td>\n",
       "      <td>2/8/2019</td>\n",
       "      <td>15:31</td>\n",
       "      <td>Cash</td>\n",
       "      <td>12067.2</td>\n",
       "      <td>4.761905</td>\n",
       "      <td>603.36</td>\n",
       "      <td>6.7</td>\n",
       "    </tr>\n",
       "    <tr>\n",
       "      <th>8</th>\n",
       "      <td>145-94-9061</td>\n",
       "      <td>B</td>\n",
       "      <td>Abuja</td>\n",
       "      <td>Normal</td>\n",
       "      <td>Female</td>\n",
       "      <td>Food and beverages</td>\n",
       "      <td>31809.6</td>\n",
       "      <td>5</td>\n",
       "      <td>7952.40</td>\n",
       "      <td>167000.40</td>\n",
       "      <td>1/25/2019</td>\n",
       "      <td>19:48</td>\n",
       "      <td>Cash</td>\n",
       "      <td>159048.0</td>\n",
       "      <td>4.761905</td>\n",
       "      <td>7952.40</td>\n",
       "      <td>9.6</td>\n",
       "    </tr>\n",
       "    <tr>\n",
       "      <th>9</th>\n",
       "      <td>871-79-8483</td>\n",
       "      <td>B</td>\n",
       "      <td>Abuja</td>\n",
       "      <td>Normal</td>\n",
       "      <td>Male</td>\n",
       "      <td>Fashion accessories</td>\n",
       "      <td>33886.8</td>\n",
       "      <td>5</td>\n",
       "      <td>8471.70</td>\n",
       "      <td>177905.70</td>\n",
       "      <td>2/25/2019</td>\n",
       "      <td>19:39</td>\n",
       "      <td>Card</td>\n",
       "      <td>169434.0</td>\n",
       "      <td>4.761905</td>\n",
       "      <td>8471.70</td>\n",
       "      <td>4.8</td>\n",
       "    </tr>\n",
       "  </tbody>\n",
       "</table>\n",
       "</div>"
      ],
      "text/plain": [
       "    Invoice ID Branch   City Customer type  Gender            Product line  \\\n",
       "0  692-92-5582      B  Abuja        Member  Female      Food and beverages   \n",
       "1  351-62-0822      B  Abuja        Member  Female     Fashion accessories   \n",
       "2  529-56-3974      B  Abuja        Member    Male  Electronic accessories   \n",
       "3  299-46-1805      B  Abuja        Member  Female       Sports and travel   \n",
       "4  319-50-3348      B  Abuja        Normal  Female      Home and lifestyle   \n",
       "5  371-85-5789      B  Abuja        Normal    Male       Health and beauty   \n",
       "6  273-16-6619      B  Abuja        Normal    Male      Home and lifestyle   \n",
       "7  649-29-6775      B  Abuja        Normal    Male     Fashion accessories   \n",
       "8  145-94-9061      B  Abuja        Normal  Female      Food and beverages   \n",
       "9  871-79-8483      B  Abuja        Normal    Male     Fashion accessories   \n",
       "\n",
       "   Unit price  Quantity    Tax 5%      Total       Date   Time Payment  \\\n",
       "0     19742.4         3   2961.36   62188.56  2/20/2019  13:27    Card   \n",
       "1      5212.8         4   1042.56   21893.76   2/6/2019  18:07    Epay   \n",
       "2      9183.6         4   1836.72   38571.12   3/9/2019  17:03    Cash   \n",
       "3     33739.2         6  10121.76  212556.96  1/15/2019  16:19    Cash   \n",
       "4     14508.0         2   1450.80   30466.80  3/11/2019  15:30    Epay   \n",
       "5     31672.8         3   4750.92   99769.32   3/5/2019  10:40    Epay   \n",
       "6     11952.0         2   1195.20   25099.20  3/15/2019  12:20    Card   \n",
       "7     12067.2         1    603.36   12670.56   2/8/2019  15:31    Cash   \n",
       "8     31809.6         5   7952.40  167000.40  1/25/2019  19:48    Cash   \n",
       "9     33886.8         5   8471.70  177905.70  2/25/2019  19:39    Card   \n",
       "\n",
       "       cogs  gross margin percentage  gross income  Rating  \n",
       "0   59227.2                 4.761905       2961.36     5.9  \n",
       "1   20851.2                 4.761905       1042.56     4.5  \n",
       "2   36734.4                 4.761905       1836.72     6.8  \n",
       "3  202435.2                 4.761905      10121.76     4.5  \n",
       "4   29016.0                 4.761905       1450.80     4.4  \n",
       "5   95018.4                 4.761905       4750.92     5.1  \n",
       "6   23904.0                 4.761905       1195.20     4.4  \n",
       "7   12067.2                 4.761905        603.36     6.7  \n",
       "8  159048.0                 4.761905       7952.40     9.6  \n",
       "9  169434.0                 4.761905       8471.70     4.8  "
      ]
     },
     "execution_count": 13,
     "metadata": {},
     "output_type": "execute_result"
    }
   ],
   "source": [
    "DF.head(10)"
   ]
  },
  {
   "cell_type": "code",
   "execution_count": 14,
   "metadata": {},
   "outputs": [
    {
     "data": {
      "text/plain": [
       "(1000, 17)"
      ]
     },
     "execution_count": 14,
     "metadata": {},
     "output_type": "execute_result"
    }
   ],
   "source": [
    "DF.shape"
   ]
  },
  {
   "cell_type": "markdown",
   "metadata": {},
   "source": [
    "The data has 1000 rows and 17 columns. Column headings are in the list below."
   ]
  },
  {
   "cell_type": "code",
   "execution_count": 15,
   "metadata": {},
   "outputs": [
    {
     "data": {
      "text/plain": [
       "Index(['Invoice ID', 'Branch', 'City', 'Customer type', 'Gender',\n",
       "       'Product line', 'Unit price', 'Quantity', 'Tax 5%', 'Total', 'Date',\n",
       "       'Time', 'Payment', 'cogs', 'gross margin percentage', 'gross income',\n",
       "       'Rating'],\n",
       "      dtype='object')"
      ]
     },
     "execution_count": 15,
     "metadata": {},
     "output_type": "execute_result"
    }
   ],
   "source": [
    "DF.columns"
   ]
  },
  {
   "cell_type": "code",
   "execution_count": 16,
   "metadata": {},
   "outputs": [
    {
     "data": {
      "text/html": [
       "<div>\n",
       "<style scoped>\n",
       "    .dataframe tbody tr th:only-of-type {\n",
       "        vertical-align: middle;\n",
       "    }\n",
       "\n",
       "    .dataframe tbody tr th {\n",
       "        vertical-align: top;\n",
       "    }\n",
       "\n",
       "    .dataframe thead th {\n",
       "        text-align: right;\n",
       "    }\n",
       "</style>\n",
       "<table border=\"1\" class=\"dataframe\">\n",
       "  <thead>\n",
       "    <tr style=\"text-align: right;\">\n",
       "      <th></th>\n",
       "      <th>Unit price</th>\n",
       "      <th>Quantity</th>\n",
       "      <th>Tax 5%</th>\n",
       "      <th>Total</th>\n",
       "      <th>cogs</th>\n",
       "      <th>gross margin percentage</th>\n",
       "      <th>gross income</th>\n",
       "      <th>Rating</th>\n",
       "    </tr>\n",
       "  </thead>\n",
       "  <tbody>\n",
       "    <tr>\n",
       "      <th>count</th>\n",
       "      <td>1000.000000</td>\n",
       "      <td>1000.000000</td>\n",
       "      <td>1000.000000</td>\n",
       "      <td>1000.000000</td>\n",
       "      <td>1000.000000</td>\n",
       "      <td>1.000000e+03</td>\n",
       "      <td>1000.000000</td>\n",
       "      <td>1000.00000</td>\n",
       "    </tr>\n",
       "    <tr>\n",
       "      <th>mean</th>\n",
       "      <td>20041.966800</td>\n",
       "      <td>5.510000</td>\n",
       "      <td>5536.572840</td>\n",
       "      <td>116268.029640</td>\n",
       "      <td>110731.456800</td>\n",
       "      <td>4.761905e+00</td>\n",
       "      <td>5536.572840</td>\n",
       "      <td>6.97270</td>\n",
       "    </tr>\n",
       "    <tr>\n",
       "      <th>std</th>\n",
       "      <td>9538.066205</td>\n",
       "      <td>2.923431</td>\n",
       "      <td>4215.177173</td>\n",
       "      <td>88518.720636</td>\n",
       "      <td>84303.543463</td>\n",
       "      <td>6.220360e-14</td>\n",
       "      <td>4215.177173</td>\n",
       "      <td>1.71858</td>\n",
       "    </tr>\n",
       "    <tr>\n",
       "      <th>min</th>\n",
       "      <td>3628.800000</td>\n",
       "      <td>1.000000</td>\n",
       "      <td>183.060000</td>\n",
       "      <td>3844.260000</td>\n",
       "      <td>3661.200000</td>\n",
       "      <td>4.761905e+00</td>\n",
       "      <td>183.060000</td>\n",
       "      <td>4.00000</td>\n",
       "    </tr>\n",
       "    <tr>\n",
       "      <th>25%</th>\n",
       "      <td>11835.000000</td>\n",
       "      <td>3.000000</td>\n",
       "      <td>2132.955000</td>\n",
       "      <td>44792.055000</td>\n",
       "      <td>42659.100000</td>\n",
       "      <td>4.761905e+00</td>\n",
       "      <td>2132.955000</td>\n",
       "      <td>5.50000</td>\n",
       "    </tr>\n",
       "    <tr>\n",
       "      <th>50%</th>\n",
       "      <td>19882.800000</td>\n",
       "      <td>5.000000</td>\n",
       "      <td>4351.680000</td>\n",
       "      <td>91385.280000</td>\n",
       "      <td>87033.600000</td>\n",
       "      <td>4.761905e+00</td>\n",
       "      <td>4351.680000</td>\n",
       "      <td>7.00000</td>\n",
       "    </tr>\n",
       "    <tr>\n",
       "      <th>75%</th>\n",
       "      <td>28056.600000</td>\n",
       "      <td>8.000000</td>\n",
       "      <td>8080.290000</td>\n",
       "      <td>169686.090000</td>\n",
       "      <td>161605.800000</td>\n",
       "      <td>4.761905e+00</td>\n",
       "      <td>8080.290000</td>\n",
       "      <td>8.50000</td>\n",
       "    </tr>\n",
       "    <tr>\n",
       "      <th>max</th>\n",
       "      <td>35985.600000</td>\n",
       "      <td>10.000000</td>\n",
       "      <td>17874.000000</td>\n",
       "      <td>375354.000000</td>\n",
       "      <td>357480.000000</td>\n",
       "      <td>4.761905e+00</td>\n",
       "      <td>17874.000000</td>\n",
       "      <td>10.00000</td>\n",
       "    </tr>\n",
       "  </tbody>\n",
       "</table>\n",
       "</div>"
      ],
      "text/plain": [
       "         Unit price     Quantity        Tax 5%          Total           cogs  \\\n",
       "count   1000.000000  1000.000000   1000.000000    1000.000000    1000.000000   \n",
       "mean   20041.966800     5.510000   5536.572840  116268.029640  110731.456800   \n",
       "std     9538.066205     2.923431   4215.177173   88518.720636   84303.543463   \n",
       "min     3628.800000     1.000000    183.060000    3844.260000    3661.200000   \n",
       "25%    11835.000000     3.000000   2132.955000   44792.055000   42659.100000   \n",
       "50%    19882.800000     5.000000   4351.680000   91385.280000   87033.600000   \n",
       "75%    28056.600000     8.000000   8080.290000  169686.090000  161605.800000   \n",
       "max    35985.600000    10.000000  17874.000000  375354.000000  357480.000000   \n",
       "\n",
       "       gross margin percentage  gross income      Rating  \n",
       "count             1.000000e+03   1000.000000  1000.00000  \n",
       "mean              4.761905e+00   5536.572840     6.97270  \n",
       "std               6.220360e-14   4215.177173     1.71858  \n",
       "min               4.761905e+00    183.060000     4.00000  \n",
       "25%               4.761905e+00   2132.955000     5.50000  \n",
       "50%               4.761905e+00   4351.680000     7.00000  \n",
       "75%               4.761905e+00   8080.290000     8.50000  \n",
       "max               4.761905e+00  17874.000000    10.00000  "
      ]
     },
     "execution_count": 16,
     "metadata": {},
     "output_type": "execute_result"
    }
   ],
   "source": [
    "DF.describe()"
   ]
  },
  {
   "cell_type": "code",
   "execution_count": 17,
   "metadata": {},
   "outputs": [
    {
     "data": {
      "text/html": [
       "<div>\n",
       "<style scoped>\n",
       "    .dataframe tbody tr th:only-of-type {\n",
       "        vertical-align: middle;\n",
       "    }\n",
       "\n",
       "    .dataframe tbody tr th {\n",
       "        vertical-align: top;\n",
       "    }\n",
       "\n",
       "    .dataframe thead th {\n",
       "        text-align: right;\n",
       "    }\n",
       "</style>\n",
       "<table border=\"1\" class=\"dataframe\">\n",
       "  <thead>\n",
       "    <tr style=\"text-align: right;\">\n",
       "      <th></th>\n",
       "      <th>Invoice ID</th>\n",
       "      <th>Branch</th>\n",
       "      <th>City</th>\n",
       "      <th>Customer type</th>\n",
       "      <th>Gender</th>\n",
       "      <th>Product line</th>\n",
       "      <th>Unit price</th>\n",
       "      <th>Quantity</th>\n",
       "      <th>Tax 5%</th>\n",
       "      <th>Total</th>\n",
       "      <th>Date</th>\n",
       "      <th>Time</th>\n",
       "      <th>Payment</th>\n",
       "      <th>cogs</th>\n",
       "      <th>gross margin percentage</th>\n",
       "      <th>gross income</th>\n",
       "      <th>Rating</th>\n",
       "    </tr>\n",
       "  </thead>\n",
       "  <tbody>\n",
       "    <tr>\n",
       "      <th>count</th>\n",
       "      <td>1000</td>\n",
       "      <td>1000</td>\n",
       "      <td>1000</td>\n",
       "      <td>1000</td>\n",
       "      <td>1000</td>\n",
       "      <td>1000</td>\n",
       "      <td>1000.000000</td>\n",
       "      <td>1000.000000</td>\n",
       "      <td>1000.000000</td>\n",
       "      <td>1000.000000</td>\n",
       "      <td>1000</td>\n",
       "      <td>1000</td>\n",
       "      <td>1000</td>\n",
       "      <td>1000.000000</td>\n",
       "      <td>1.000000e+03</td>\n",
       "      <td>1000.000000</td>\n",
       "      <td>1000.00000</td>\n",
       "    </tr>\n",
       "    <tr>\n",
       "      <th>unique</th>\n",
       "      <td>1000</td>\n",
       "      <td>3</td>\n",
       "      <td>3</td>\n",
       "      <td>2</td>\n",
       "      <td>2</td>\n",
       "      <td>6</td>\n",
       "      <td>NaN</td>\n",
       "      <td>NaN</td>\n",
       "      <td>NaN</td>\n",
       "      <td>NaN</td>\n",
       "      <td>89</td>\n",
       "      <td>506</td>\n",
       "      <td>3</td>\n",
       "      <td>NaN</td>\n",
       "      <td>NaN</td>\n",
       "      <td>NaN</td>\n",
       "      <td>NaN</td>\n",
       "    </tr>\n",
       "    <tr>\n",
       "      <th>top</th>\n",
       "      <td>648-83-1321</td>\n",
       "      <td>A</td>\n",
       "      <td>Lagos</td>\n",
       "      <td>Member</td>\n",
       "      <td>Female</td>\n",
       "      <td>Fashion accessories</td>\n",
       "      <td>NaN</td>\n",
       "      <td>NaN</td>\n",
       "      <td>NaN</td>\n",
       "      <td>NaN</td>\n",
       "      <td>2/7/2019</td>\n",
       "      <td>14:42</td>\n",
       "      <td>Epay</td>\n",
       "      <td>NaN</td>\n",
       "      <td>NaN</td>\n",
       "      <td>NaN</td>\n",
       "      <td>NaN</td>\n",
       "    </tr>\n",
       "    <tr>\n",
       "      <th>freq</th>\n",
       "      <td>1</td>\n",
       "      <td>340</td>\n",
       "      <td>340</td>\n",
       "      <td>501</td>\n",
       "      <td>501</td>\n",
       "      <td>178</td>\n",
       "      <td>NaN</td>\n",
       "      <td>NaN</td>\n",
       "      <td>NaN</td>\n",
       "      <td>NaN</td>\n",
       "      <td>20</td>\n",
       "      <td>7</td>\n",
       "      <td>345</td>\n",
       "      <td>NaN</td>\n",
       "      <td>NaN</td>\n",
       "      <td>NaN</td>\n",
       "      <td>NaN</td>\n",
       "    </tr>\n",
       "    <tr>\n",
       "      <th>mean</th>\n",
       "      <td>NaN</td>\n",
       "      <td>NaN</td>\n",
       "      <td>NaN</td>\n",
       "      <td>NaN</td>\n",
       "      <td>NaN</td>\n",
       "      <td>NaN</td>\n",
       "      <td>20041.966800</td>\n",
       "      <td>5.510000</td>\n",
       "      <td>5536.572840</td>\n",
       "      <td>116268.029640</td>\n",
       "      <td>NaN</td>\n",
       "      <td>NaN</td>\n",
       "      <td>NaN</td>\n",
       "      <td>110731.456800</td>\n",
       "      <td>4.761905e+00</td>\n",
       "      <td>5536.572840</td>\n",
       "      <td>6.97270</td>\n",
       "    </tr>\n",
       "    <tr>\n",
       "      <th>std</th>\n",
       "      <td>NaN</td>\n",
       "      <td>NaN</td>\n",
       "      <td>NaN</td>\n",
       "      <td>NaN</td>\n",
       "      <td>NaN</td>\n",
       "      <td>NaN</td>\n",
       "      <td>9538.066205</td>\n",
       "      <td>2.923431</td>\n",
       "      <td>4215.177173</td>\n",
       "      <td>88518.720636</td>\n",
       "      <td>NaN</td>\n",
       "      <td>NaN</td>\n",
       "      <td>NaN</td>\n",
       "      <td>84303.543463</td>\n",
       "      <td>6.220360e-14</td>\n",
       "      <td>4215.177173</td>\n",
       "      <td>1.71858</td>\n",
       "    </tr>\n",
       "    <tr>\n",
       "      <th>min</th>\n",
       "      <td>NaN</td>\n",
       "      <td>NaN</td>\n",
       "      <td>NaN</td>\n",
       "      <td>NaN</td>\n",
       "      <td>NaN</td>\n",
       "      <td>NaN</td>\n",
       "      <td>3628.800000</td>\n",
       "      <td>1.000000</td>\n",
       "      <td>183.060000</td>\n",
       "      <td>3844.260000</td>\n",
       "      <td>NaN</td>\n",
       "      <td>NaN</td>\n",
       "      <td>NaN</td>\n",
       "      <td>3661.200000</td>\n",
       "      <td>4.761905e+00</td>\n",
       "      <td>183.060000</td>\n",
       "      <td>4.00000</td>\n",
       "    </tr>\n",
       "    <tr>\n",
       "      <th>25%</th>\n",
       "      <td>NaN</td>\n",
       "      <td>NaN</td>\n",
       "      <td>NaN</td>\n",
       "      <td>NaN</td>\n",
       "      <td>NaN</td>\n",
       "      <td>NaN</td>\n",
       "      <td>11835.000000</td>\n",
       "      <td>3.000000</td>\n",
       "      <td>2132.955000</td>\n",
       "      <td>44792.055000</td>\n",
       "      <td>NaN</td>\n",
       "      <td>NaN</td>\n",
       "      <td>NaN</td>\n",
       "      <td>42659.100000</td>\n",
       "      <td>4.761905e+00</td>\n",
       "      <td>2132.955000</td>\n",
       "      <td>5.50000</td>\n",
       "    </tr>\n",
       "    <tr>\n",
       "      <th>50%</th>\n",
       "      <td>NaN</td>\n",
       "      <td>NaN</td>\n",
       "      <td>NaN</td>\n",
       "      <td>NaN</td>\n",
       "      <td>NaN</td>\n",
       "      <td>NaN</td>\n",
       "      <td>19882.800000</td>\n",
       "      <td>5.000000</td>\n",
       "      <td>4351.680000</td>\n",
       "      <td>91385.280000</td>\n",
       "      <td>NaN</td>\n",
       "      <td>NaN</td>\n",
       "      <td>NaN</td>\n",
       "      <td>87033.600000</td>\n",
       "      <td>4.761905e+00</td>\n",
       "      <td>4351.680000</td>\n",
       "      <td>7.00000</td>\n",
       "    </tr>\n",
       "    <tr>\n",
       "      <th>75%</th>\n",
       "      <td>NaN</td>\n",
       "      <td>NaN</td>\n",
       "      <td>NaN</td>\n",
       "      <td>NaN</td>\n",
       "      <td>NaN</td>\n",
       "      <td>NaN</td>\n",
       "      <td>28056.600000</td>\n",
       "      <td>8.000000</td>\n",
       "      <td>8080.290000</td>\n",
       "      <td>169686.090000</td>\n",
       "      <td>NaN</td>\n",
       "      <td>NaN</td>\n",
       "      <td>NaN</td>\n",
       "      <td>161605.800000</td>\n",
       "      <td>4.761905e+00</td>\n",
       "      <td>8080.290000</td>\n",
       "      <td>8.50000</td>\n",
       "    </tr>\n",
       "    <tr>\n",
       "      <th>max</th>\n",
       "      <td>NaN</td>\n",
       "      <td>NaN</td>\n",
       "      <td>NaN</td>\n",
       "      <td>NaN</td>\n",
       "      <td>NaN</td>\n",
       "      <td>NaN</td>\n",
       "      <td>35985.600000</td>\n",
       "      <td>10.000000</td>\n",
       "      <td>17874.000000</td>\n",
       "      <td>375354.000000</td>\n",
       "      <td>NaN</td>\n",
       "      <td>NaN</td>\n",
       "      <td>NaN</td>\n",
       "      <td>357480.000000</td>\n",
       "      <td>4.761905e+00</td>\n",
       "      <td>17874.000000</td>\n",
       "      <td>10.00000</td>\n",
       "    </tr>\n",
       "  </tbody>\n",
       "</table>\n",
       "</div>"
      ],
      "text/plain": [
       "         Invoice ID Branch   City Customer type  Gender         Product line  \\\n",
       "count          1000   1000   1000          1000    1000                 1000   \n",
       "unique         1000      3      3             2       2                    6   \n",
       "top     648-83-1321      A  Lagos        Member  Female  Fashion accessories   \n",
       "freq              1    340    340           501     501                  178   \n",
       "mean            NaN    NaN    NaN           NaN     NaN                  NaN   \n",
       "std             NaN    NaN    NaN           NaN     NaN                  NaN   \n",
       "min             NaN    NaN    NaN           NaN     NaN                  NaN   \n",
       "25%             NaN    NaN    NaN           NaN     NaN                  NaN   \n",
       "50%             NaN    NaN    NaN           NaN     NaN                  NaN   \n",
       "75%             NaN    NaN    NaN           NaN     NaN                  NaN   \n",
       "max             NaN    NaN    NaN           NaN     NaN                  NaN   \n",
       "\n",
       "          Unit price     Quantity        Tax 5%          Total      Date  \\\n",
       "count    1000.000000  1000.000000   1000.000000    1000.000000      1000   \n",
       "unique           NaN          NaN           NaN            NaN        89   \n",
       "top              NaN          NaN           NaN            NaN  2/7/2019   \n",
       "freq             NaN          NaN           NaN            NaN        20   \n",
       "mean    20041.966800     5.510000   5536.572840  116268.029640       NaN   \n",
       "std      9538.066205     2.923431   4215.177173   88518.720636       NaN   \n",
       "min      3628.800000     1.000000    183.060000    3844.260000       NaN   \n",
       "25%     11835.000000     3.000000   2132.955000   44792.055000       NaN   \n",
       "50%     19882.800000     5.000000   4351.680000   91385.280000       NaN   \n",
       "75%     28056.600000     8.000000   8080.290000  169686.090000       NaN   \n",
       "max     35985.600000    10.000000  17874.000000  375354.000000       NaN   \n",
       "\n",
       "         Time Payment           cogs  gross margin percentage  gross income  \\\n",
       "count    1000    1000    1000.000000             1.000000e+03   1000.000000   \n",
       "unique    506       3            NaN                      NaN           NaN   \n",
       "top     14:42    Epay            NaN                      NaN           NaN   \n",
       "freq        7     345            NaN                      NaN           NaN   \n",
       "mean      NaN     NaN  110731.456800             4.761905e+00   5536.572840   \n",
       "std       NaN     NaN   84303.543463             6.220360e-14   4215.177173   \n",
       "min       NaN     NaN    3661.200000             4.761905e+00    183.060000   \n",
       "25%       NaN     NaN   42659.100000             4.761905e+00   2132.955000   \n",
       "50%       NaN     NaN   87033.600000             4.761905e+00   4351.680000   \n",
       "75%       NaN     NaN  161605.800000             4.761905e+00   8080.290000   \n",
       "max       NaN     NaN  357480.000000             4.761905e+00  17874.000000   \n",
       "\n",
       "            Rating  \n",
       "count   1000.00000  \n",
       "unique         NaN  \n",
       "top            NaN  \n",
       "freq           NaN  \n",
       "mean       6.97270  \n",
       "std        1.71858  \n",
       "min        4.00000  \n",
       "25%        5.50000  \n",
       "50%        7.00000  \n",
       "75%        8.50000  \n",
       "max       10.00000  "
      ]
     },
     "execution_count": 17,
     "metadata": {},
     "output_type": "execute_result"
    }
   ],
   "source": [
    "DF.describe(include='all')"
   ]
  },
  {
   "cell_type": "markdown",
   "metadata": {},
   "source": [
    "### Comparing default *describe* method to an all-inclusive *describe* method.\n",
    "\n",
    "* The default method gave a general summary of only numerical values present in the dataset, which consists of 8 out of 17 columns.\n",
    "* The method with parameter 'include' gave a summary of all datatypes in the dataset.\n",
    "* There is a total of 1000 sales entries for all the branches of this supermaket. (The 'count' value gives this information)\n",
    "* There are 3 branches in 3 different cities for this supermarket. (The 'unique' value gives this information).\n",
    "* All branches have only 2 types of customers of only 2 genders.\n",
    "* The supermarket is focused on 6 product lines only.\n",
    "* There are only 3 payments methods acceptable by the supermarket.\n",
    "* All numerical entries have information like the mean, minimum values, maximum values, etc."
   ]
  },
  {
   "cell_type": "markdown",
   "metadata": {},
   "source": [
    "#### Checking for missing values."
   ]
  },
  {
   "cell_type": "code",
   "execution_count": 22,
   "metadata": {},
   "outputs": [
    {
     "data": {
      "text/plain": [
       "Invoice ID                 0\n",
       "Branch                     0\n",
       "City                       0\n",
       "Customer type              0\n",
       "Gender                     0\n",
       "Product line               0\n",
       "Unit price                 0\n",
       "Quantity                   0\n",
       "Tax 5%                     0\n",
       "Total                      0\n",
       "Date                       0\n",
       "Time                       0\n",
       "Payment                    0\n",
       "cogs                       0\n",
       "gross margin percentage    0\n",
       "gross income               0\n",
       "Rating                     0\n",
       "dtype: int64"
      ]
     },
     "execution_count": 22,
     "metadata": {},
     "output_type": "execute_result"
    }
   ],
   "source": [
    "DF.isnull().sum()"
   ]
  },
  {
   "cell_type": "markdown",
   "metadata": {},
   "source": [
    "The above shows that there are no null values in the dataset; i.e, no empty rows."
   ]
  },
  {
   "cell_type": "code",
   "execution_count": 23,
   "metadata": {},
   "outputs": [
    {
     "name": "stdout",
     "output_type": "stream",
     "text": [
      "<class 'pandas.core.frame.DataFrame'>\n",
      "RangeIndex: 1000 entries, 0 to 999\n",
      "Data columns (total 17 columns):\n",
      " #   Column                   Non-Null Count  Dtype  \n",
      "---  ------                   --------------  -----  \n",
      " 0   Invoice ID               1000 non-null   object \n",
      " 1   Branch                   1000 non-null   object \n",
      " 2   City                     1000 non-null   object \n",
      " 3   Customer type            1000 non-null   object \n",
      " 4   Gender                   1000 non-null   object \n",
      " 5   Product line             1000 non-null   object \n",
      " 6   Unit price               1000 non-null   float64\n",
      " 7   Quantity                 1000 non-null   int64  \n",
      " 8   Tax 5%                   1000 non-null   float64\n",
      " 9   Total                    1000 non-null   float64\n",
      " 10  Date                     1000 non-null   object \n",
      " 11  Time                     1000 non-null   object \n",
      " 12  Payment                  1000 non-null   object \n",
      " 13  cogs                     1000 non-null   float64\n",
      " 14  gross margin percentage  1000 non-null   float64\n",
      " 15  gross income             1000 non-null   float64\n",
      " 16  Rating                   1000 non-null   float64\n",
      "dtypes: float64(7), int64(1), object(9)\n",
      "memory usage: 132.9+ KB\n"
     ]
    }
   ],
   "source": [
    "DF.info()"
   ]
  },
  {
   "cell_type": "markdown",
   "metadata": {},
   "source": [
    "## Step 3: Datetime features"
   ]
  },
  {
   "cell_type": "markdown",
   "metadata": {},
   "source": [
    "#### Converting date and time columns to datetime format"
   ]
  },
  {
   "cell_type": "code",
   "execution_count": 25,
   "metadata": {},
   "outputs": [],
   "source": [
    "DF['Date'] = pd.to_datetime(DF['Date'])"
   ]
  },
  {
   "cell_type": "code",
   "execution_count": 31,
   "metadata": {},
   "outputs": [
    {
     "name": "stdout",
     "output_type": "stream",
     "text": [
      "<class 'pandas.core.frame.DataFrame'>\n",
      "RangeIndex: 1000 entries, 0 to 999\n",
      "Data columns (total 17 columns):\n",
      " #   Column                   Non-Null Count  Dtype         \n",
      "---  ------                   --------------  -----         \n",
      " 0   Invoice ID               1000 non-null   object        \n",
      " 1   Branch                   1000 non-null   object        \n",
      " 2   City                     1000 non-null   object        \n",
      " 3   Customer type            1000 non-null   object        \n",
      " 4   Gender                   1000 non-null   object        \n",
      " 5   Product line             1000 non-null   object        \n",
      " 6   Unit price               1000 non-null   float64       \n",
      " 7   Quantity                 1000 non-null   int64         \n",
      " 8   Tax 5%                   1000 non-null   float64       \n",
      " 9   Total                    1000 non-null   float64       \n",
      " 10  Date                     1000 non-null   datetime64[ns]\n",
      " 11  Time                     1000 non-null   datetime64[ns]\n",
      " 12  Payment                  1000 non-null   object        \n",
      " 13  cogs                     1000 non-null   float64       \n",
      " 14  gross margin percentage  1000 non-null   float64       \n",
      " 15  gross income             1000 non-null   float64       \n",
      " 16  Rating                   1000 non-null   float64       \n",
      "dtypes: datetime64[ns](2), float64(7), int64(1), object(7)\n",
      "memory usage: 132.9+ KB\n"
     ]
    }
   ],
   "source": [
    "DF.info()"
   ]
  },
  {
   "cell_type": "markdown",
   "metadata": {},
   "source": [
    "Successfully changed the date and time column entries to appropriate format for data exploration and analysis."
   ]
  },
  {
   "cell_type": "code",
   "execution_count": 30,
   "metadata": {},
   "outputs": [],
   "source": [
    "DF['Time'] = pd.to_datetime(DF['Time'])"
   ]
  },
  {
   "cell_type": "code",
   "execution_count": 32,
   "metadata": {},
   "outputs": [
    {
     "data": {
      "text/html": [
       "<div>\n",
       "<style scoped>\n",
       "    .dataframe tbody tr th:only-of-type {\n",
       "        vertical-align: middle;\n",
       "    }\n",
       "\n",
       "    .dataframe tbody tr th {\n",
       "        vertical-align: top;\n",
       "    }\n",
       "\n",
       "    .dataframe thead th {\n",
       "        text-align: right;\n",
       "    }\n",
       "</style>\n",
       "<table border=\"1\" class=\"dataframe\">\n",
       "  <thead>\n",
       "    <tr style=\"text-align: right;\">\n",
       "      <th></th>\n",
       "      <th>Invoice ID</th>\n",
       "      <th>Branch</th>\n",
       "      <th>City</th>\n",
       "      <th>Customer type</th>\n",
       "      <th>Gender</th>\n",
       "      <th>Product line</th>\n",
       "      <th>Unit price</th>\n",
       "      <th>Quantity</th>\n",
       "      <th>Tax 5%</th>\n",
       "      <th>Total</th>\n",
       "      <th>Date</th>\n",
       "      <th>Time</th>\n",
       "      <th>Payment</th>\n",
       "      <th>cogs</th>\n",
       "      <th>gross margin percentage</th>\n",
       "      <th>gross income</th>\n",
       "      <th>Rating</th>\n",
       "    </tr>\n",
       "  </thead>\n",
       "  <tbody>\n",
       "    <tr>\n",
       "      <th>0</th>\n",
       "      <td>692-92-5582</td>\n",
       "      <td>B</td>\n",
       "      <td>Abuja</td>\n",
       "      <td>Member</td>\n",
       "      <td>Female</td>\n",
       "      <td>Food and beverages</td>\n",
       "      <td>19742.4</td>\n",
       "      <td>3</td>\n",
       "      <td>2961.36</td>\n",
       "      <td>62188.56</td>\n",
       "      <td>2019-02-20</td>\n",
       "      <td>2021-05-03 13:27:00</td>\n",
       "      <td>Card</td>\n",
       "      <td>59227.2</td>\n",
       "      <td>4.761905</td>\n",
       "      <td>2961.36</td>\n",
       "      <td>5.9</td>\n",
       "    </tr>\n",
       "    <tr>\n",
       "      <th>1</th>\n",
       "      <td>351-62-0822</td>\n",
       "      <td>B</td>\n",
       "      <td>Abuja</td>\n",
       "      <td>Member</td>\n",
       "      <td>Female</td>\n",
       "      <td>Fashion accessories</td>\n",
       "      <td>5212.8</td>\n",
       "      <td>4</td>\n",
       "      <td>1042.56</td>\n",
       "      <td>21893.76</td>\n",
       "      <td>2019-02-06</td>\n",
       "      <td>2021-05-03 18:07:00</td>\n",
       "      <td>Epay</td>\n",
       "      <td>20851.2</td>\n",
       "      <td>4.761905</td>\n",
       "      <td>1042.56</td>\n",
       "      <td>4.5</td>\n",
       "    </tr>\n",
       "    <tr>\n",
       "      <th>2</th>\n",
       "      <td>529-56-3974</td>\n",
       "      <td>B</td>\n",
       "      <td>Abuja</td>\n",
       "      <td>Member</td>\n",
       "      <td>Male</td>\n",
       "      <td>Electronic accessories</td>\n",
       "      <td>9183.6</td>\n",
       "      <td>4</td>\n",
       "      <td>1836.72</td>\n",
       "      <td>38571.12</td>\n",
       "      <td>2019-03-09</td>\n",
       "      <td>2021-05-03 17:03:00</td>\n",
       "      <td>Cash</td>\n",
       "      <td>36734.4</td>\n",
       "      <td>4.761905</td>\n",
       "      <td>1836.72</td>\n",
       "      <td>6.8</td>\n",
       "    </tr>\n",
       "    <tr>\n",
       "      <th>3</th>\n",
       "      <td>299-46-1805</td>\n",
       "      <td>B</td>\n",
       "      <td>Abuja</td>\n",
       "      <td>Member</td>\n",
       "      <td>Female</td>\n",
       "      <td>Sports and travel</td>\n",
       "      <td>33739.2</td>\n",
       "      <td>6</td>\n",
       "      <td>10121.76</td>\n",
       "      <td>212556.96</td>\n",
       "      <td>2019-01-15</td>\n",
       "      <td>2021-05-03 16:19:00</td>\n",
       "      <td>Cash</td>\n",
       "      <td>202435.2</td>\n",
       "      <td>4.761905</td>\n",
       "      <td>10121.76</td>\n",
       "      <td>4.5</td>\n",
       "    </tr>\n",
       "    <tr>\n",
       "      <th>4</th>\n",
       "      <td>319-50-3348</td>\n",
       "      <td>B</td>\n",
       "      <td>Abuja</td>\n",
       "      <td>Normal</td>\n",
       "      <td>Female</td>\n",
       "      <td>Home and lifestyle</td>\n",
       "      <td>14508.0</td>\n",
       "      <td>2</td>\n",
       "      <td>1450.80</td>\n",
       "      <td>30466.80</td>\n",
       "      <td>2019-03-11</td>\n",
       "      <td>2021-05-03 15:30:00</td>\n",
       "      <td>Epay</td>\n",
       "      <td>29016.0</td>\n",
       "      <td>4.761905</td>\n",
       "      <td>1450.80</td>\n",
       "      <td>4.4</td>\n",
       "    </tr>\n",
       "  </tbody>\n",
       "</table>\n",
       "</div>"
      ],
      "text/plain": [
       "    Invoice ID Branch   City Customer type  Gender            Product line  \\\n",
       "0  692-92-5582      B  Abuja        Member  Female      Food and beverages   \n",
       "1  351-62-0822      B  Abuja        Member  Female     Fashion accessories   \n",
       "2  529-56-3974      B  Abuja        Member    Male  Electronic accessories   \n",
       "3  299-46-1805      B  Abuja        Member  Female       Sports and travel   \n",
       "4  319-50-3348      B  Abuja        Normal  Female      Home and lifestyle   \n",
       "\n",
       "   Unit price  Quantity    Tax 5%      Total       Date                Time  \\\n",
       "0     19742.4         3   2961.36   62188.56 2019-02-20 2021-05-03 13:27:00   \n",
       "1      5212.8         4   1042.56   21893.76 2019-02-06 2021-05-03 18:07:00   \n",
       "2      9183.6         4   1836.72   38571.12 2019-03-09 2021-05-03 17:03:00   \n",
       "3     33739.2         6  10121.76  212556.96 2019-01-15 2021-05-03 16:19:00   \n",
       "4     14508.0         2   1450.80   30466.80 2019-03-11 2021-05-03 15:30:00   \n",
       "\n",
       "  Payment      cogs  gross margin percentage  gross income  Rating  \n",
       "0    Card   59227.2                 4.761905       2961.36     5.9  \n",
       "1    Epay   20851.2                 4.761905       1042.56     4.5  \n",
       "2    Cash   36734.4                 4.761905       1836.72     6.8  \n",
       "3    Cash  202435.2                 4.761905      10121.76     4.5  \n",
       "4    Epay   29016.0                 4.761905       1450.80     4.4  "
      ]
     },
     "execution_count": 32,
     "metadata": {},
     "output_type": "execute_result"
    }
   ],
   "source": [
    "DF.head()"
   ]
  },
  {
   "cell_type": "markdown",
   "metadata": {},
   "source": [
    "#### Extracting features from date and time"
   ]
  },
  {
   "cell_type": "code",
   "execution_count": 33,
   "metadata": {},
   "outputs": [],
   "source": [
    "DF['Day'] = DF['Date'].dt.day"
   ]
  },
  {
   "cell_type": "code",
   "execution_count": 34,
   "metadata": {},
   "outputs": [],
   "source": [
    "DF['Month'] = DF['Date'].dt.month"
   ]
  },
  {
   "cell_type": "code",
   "execution_count": 35,
   "metadata": {},
   "outputs": [],
   "source": [
    "DF['Year'] = DF['Date'].dt.year"
   ]
  },
  {
   "cell_type": "code",
   "execution_count": 36,
   "metadata": {},
   "outputs": [],
   "source": [
    "DF['Hour'] = DF['Time'].dt.hour"
   ]
  },
  {
   "cell_type": "code",
   "execution_count": 37,
   "metadata": {},
   "outputs": [
    {
     "data": {
      "text/html": [
       "<div>\n",
       "<style scoped>\n",
       "    .dataframe tbody tr th:only-of-type {\n",
       "        vertical-align: middle;\n",
       "    }\n",
       "\n",
       "    .dataframe tbody tr th {\n",
       "        vertical-align: top;\n",
       "    }\n",
       "\n",
       "    .dataframe thead th {\n",
       "        text-align: right;\n",
       "    }\n",
       "</style>\n",
       "<table border=\"1\" class=\"dataframe\">\n",
       "  <thead>\n",
       "    <tr style=\"text-align: right;\">\n",
       "      <th></th>\n",
       "      <th>Invoice ID</th>\n",
       "      <th>Branch</th>\n",
       "      <th>City</th>\n",
       "      <th>Customer type</th>\n",
       "      <th>Gender</th>\n",
       "      <th>Product line</th>\n",
       "      <th>Unit price</th>\n",
       "      <th>Quantity</th>\n",
       "      <th>Tax 5%</th>\n",
       "      <th>Total</th>\n",
       "      <th>...</th>\n",
       "      <th>Time</th>\n",
       "      <th>Payment</th>\n",
       "      <th>cogs</th>\n",
       "      <th>gross margin percentage</th>\n",
       "      <th>gross income</th>\n",
       "      <th>Rating</th>\n",
       "      <th>Day</th>\n",
       "      <th>Month</th>\n",
       "      <th>Year</th>\n",
       "      <th>Hour</th>\n",
       "    </tr>\n",
       "  </thead>\n",
       "  <tbody>\n",
       "    <tr>\n",
       "      <th>0</th>\n",
       "      <td>692-92-5582</td>\n",
       "      <td>B</td>\n",
       "      <td>Abuja</td>\n",
       "      <td>Member</td>\n",
       "      <td>Female</td>\n",
       "      <td>Food and beverages</td>\n",
       "      <td>19742.4</td>\n",
       "      <td>3</td>\n",
       "      <td>2961.36</td>\n",
       "      <td>62188.56</td>\n",
       "      <td>...</td>\n",
       "      <td>2021-05-03 13:27:00</td>\n",
       "      <td>Card</td>\n",
       "      <td>59227.2</td>\n",
       "      <td>4.761905</td>\n",
       "      <td>2961.36</td>\n",
       "      <td>5.9</td>\n",
       "      <td>20</td>\n",
       "      <td>2</td>\n",
       "      <td>2019</td>\n",
       "      <td>13</td>\n",
       "    </tr>\n",
       "    <tr>\n",
       "      <th>1</th>\n",
       "      <td>351-62-0822</td>\n",
       "      <td>B</td>\n",
       "      <td>Abuja</td>\n",
       "      <td>Member</td>\n",
       "      <td>Female</td>\n",
       "      <td>Fashion accessories</td>\n",
       "      <td>5212.8</td>\n",
       "      <td>4</td>\n",
       "      <td>1042.56</td>\n",
       "      <td>21893.76</td>\n",
       "      <td>...</td>\n",
       "      <td>2021-05-03 18:07:00</td>\n",
       "      <td>Epay</td>\n",
       "      <td>20851.2</td>\n",
       "      <td>4.761905</td>\n",
       "      <td>1042.56</td>\n",
       "      <td>4.5</td>\n",
       "      <td>6</td>\n",
       "      <td>2</td>\n",
       "      <td>2019</td>\n",
       "      <td>18</td>\n",
       "    </tr>\n",
       "    <tr>\n",
       "      <th>2</th>\n",
       "      <td>529-56-3974</td>\n",
       "      <td>B</td>\n",
       "      <td>Abuja</td>\n",
       "      <td>Member</td>\n",
       "      <td>Male</td>\n",
       "      <td>Electronic accessories</td>\n",
       "      <td>9183.6</td>\n",
       "      <td>4</td>\n",
       "      <td>1836.72</td>\n",
       "      <td>38571.12</td>\n",
       "      <td>...</td>\n",
       "      <td>2021-05-03 17:03:00</td>\n",
       "      <td>Cash</td>\n",
       "      <td>36734.4</td>\n",
       "      <td>4.761905</td>\n",
       "      <td>1836.72</td>\n",
       "      <td>6.8</td>\n",
       "      <td>9</td>\n",
       "      <td>3</td>\n",
       "      <td>2019</td>\n",
       "      <td>17</td>\n",
       "    </tr>\n",
       "    <tr>\n",
       "      <th>3</th>\n",
       "      <td>299-46-1805</td>\n",
       "      <td>B</td>\n",
       "      <td>Abuja</td>\n",
       "      <td>Member</td>\n",
       "      <td>Female</td>\n",
       "      <td>Sports and travel</td>\n",
       "      <td>33739.2</td>\n",
       "      <td>6</td>\n",
       "      <td>10121.76</td>\n",
       "      <td>212556.96</td>\n",
       "      <td>...</td>\n",
       "      <td>2021-05-03 16:19:00</td>\n",
       "      <td>Cash</td>\n",
       "      <td>202435.2</td>\n",
       "      <td>4.761905</td>\n",
       "      <td>10121.76</td>\n",
       "      <td>4.5</td>\n",
       "      <td>15</td>\n",
       "      <td>1</td>\n",
       "      <td>2019</td>\n",
       "      <td>16</td>\n",
       "    </tr>\n",
       "    <tr>\n",
       "      <th>4</th>\n",
       "      <td>319-50-3348</td>\n",
       "      <td>B</td>\n",
       "      <td>Abuja</td>\n",
       "      <td>Normal</td>\n",
       "      <td>Female</td>\n",
       "      <td>Home and lifestyle</td>\n",
       "      <td>14508.0</td>\n",
       "      <td>2</td>\n",
       "      <td>1450.80</td>\n",
       "      <td>30466.80</td>\n",
       "      <td>...</td>\n",
       "      <td>2021-05-03 15:30:00</td>\n",
       "      <td>Epay</td>\n",
       "      <td>29016.0</td>\n",
       "      <td>4.761905</td>\n",
       "      <td>1450.80</td>\n",
       "      <td>4.4</td>\n",
       "      <td>11</td>\n",
       "      <td>3</td>\n",
       "      <td>2019</td>\n",
       "      <td>15</td>\n",
       "    </tr>\n",
       "  </tbody>\n",
       "</table>\n",
       "<p>5 rows × 21 columns</p>\n",
       "</div>"
      ],
      "text/plain": [
       "    Invoice ID Branch   City Customer type  Gender            Product line  \\\n",
       "0  692-92-5582      B  Abuja        Member  Female      Food and beverages   \n",
       "1  351-62-0822      B  Abuja        Member  Female     Fashion accessories   \n",
       "2  529-56-3974      B  Abuja        Member    Male  Electronic accessories   \n",
       "3  299-46-1805      B  Abuja        Member  Female       Sports and travel   \n",
       "4  319-50-3348      B  Abuja        Normal  Female      Home and lifestyle   \n",
       "\n",
       "   Unit price  Quantity    Tax 5%      Total  ...                Time Payment  \\\n",
       "0     19742.4         3   2961.36   62188.56  ... 2021-05-03 13:27:00    Card   \n",
       "1      5212.8         4   1042.56   21893.76  ... 2021-05-03 18:07:00    Epay   \n",
       "2      9183.6         4   1836.72   38571.12  ... 2021-05-03 17:03:00    Cash   \n",
       "3     33739.2         6  10121.76  212556.96  ... 2021-05-03 16:19:00    Cash   \n",
       "4     14508.0         2   1450.80   30466.80  ... 2021-05-03 15:30:00    Epay   \n",
       "\n",
       "       cogs  gross margin percentage  gross income  Rating  Day  Month  Year  \\\n",
       "0   59227.2                 4.761905       2961.36     5.9   20      2  2019   \n",
       "1   20851.2                 4.761905       1042.56     4.5    6      2  2019   \n",
       "2   36734.4                 4.761905       1836.72     6.8    9      3  2019   \n",
       "3  202435.2                 4.761905      10121.76     4.5   15      1  2019   \n",
       "4   29016.0                 4.761905       1450.80     4.4   11      3  2019   \n",
       "\n",
       "   Hour  \n",
       "0    13  \n",
       "1    18  \n",
       "2    17  \n",
       "3    16  \n",
       "4    15  \n",
       "\n",
       "[5 rows x 21 columns]"
      ]
     },
     "execution_count": 37,
     "metadata": {},
     "output_type": "execute_result"
    }
   ],
   "source": [
    "DF.head()"
   ]
  },
  {
   "cell_type": "markdown",
   "metadata": {},
   "source": [
    "* A preview of the dataset shows that four new columns for day, month, year, and hour have been added successfully."
   ]
  },
  {
   "cell_type": "code",
   "execution_count": 41,
   "metadata": {},
   "outputs": [
    {
     "data": {
      "text/plain": [
       "11"
      ]
     },
     "execution_count": 41,
     "metadata": {},
     "output_type": "execute_result"
    }
   ],
   "source": [
    "DF['Hour'].nunique()"
   ]
  },
  {
   "cell_type": "code",
   "execution_count": 42,
   "metadata": {},
   "outputs": [
    {
     "data": {
      "text/plain": [
       "array([13, 18, 17, 16, 15, 10, 12, 19, 14, 11, 20], dtype=int64)"
      ]
     },
     "execution_count": 42,
     "metadata": {},
     "output_type": "execute_result"
    }
   ],
   "source": [
    "DF['Hour'].unique()"
   ]
  },
  {
   "cell_type": "markdown",
   "metadata": {},
   "source": [
    "* There are 11 unique hours of sales across all 3 supermakets. Above is an array of each unique hour of the day."
   ]
  },
  {
   "cell_type": "markdown",
   "metadata": {},
   "source": [
    "## Step 4: Unique Values in Columns"
   ]
  },
  {
   "cell_type": "code",
   "execution_count": 45,
   "metadata": {},
   "outputs": [],
   "source": [
    "categorical_columns = [col for col in DF.columns if DF[col].dtype == 'object']"
   ]
  },
  {
   "cell_type": "code",
   "execution_count": 46,
   "metadata": {},
   "outputs": [
    {
     "data": {
      "text/plain": [
       "['Invoice ID',\n",
       " 'Branch',\n",
       " 'City',\n",
       " 'Customer type',\n",
       " 'Gender',\n",
       " 'Product line',\n",
       " 'Payment']"
      ]
     },
     "execution_count": 46,
     "metadata": {},
     "output_type": "execute_result"
    }
   ],
   "source": [
    "categorical_columns"
   ]
  },
  {
   "cell_type": "code",
   "execution_count": 50,
   "metadata": {},
   "outputs": [],
   "source": [
    "unique_invoice = DF['Invoice ID'].unique().tolist()"
   ]
  },
  {
   "cell_type": "code",
   "execution_count": 51,
   "metadata": {},
   "outputs": [
    {
     "data": {
      "text/plain": [
       "['692-92-5582',\n",
       " '351-62-0822',\n",
       " '529-56-3974',\n",
       " '299-46-1805',\n",
       " '319-50-3348',\n",
       " '371-85-5789',\n",
       " '273-16-6619',\n",
       " '649-29-6775',\n",
       " '145-94-9061',\n",
       " '871-79-8483',\n",
       " '149-71-6266',\n",
       " '640-49-2076',\n",
       " '777-82-7220',\n",
       " '280-35-5823',\n",
       " '354-25-5821',\n",
       " '132-32-9879',\n",
       " '370-41-7321',\n",
       " '727-46-3608',\n",
       " '669-54-1719',\n",
       " '616-24-2851',\n",
       " '242-55-6721',\n",
       " '347-34-2234',\n",
       " '853-23-2453',\n",
       " '109-28-2512',\n",
       " '510-95-6347',\n",
       " '847-38-7188',\n",
       " '318-68-5053',\n",
       " '152-08-9985',\n",
       " '766-85-7061',\n",
       " '733-01-9107',\n",
       " '716-39-1409',\n",
       " '479-26-8945',\n",
       " '227-78-1148',\n",
       " '291-32-1427',\n",
       " '659-65-8956',\n",
       " '378-24-2715',\n",
       " '219-22-9386',\n",
       " '268-27-6179',\n",
       " '549-84-7482',\n",
       " '191-10-6171',\n",
       " '695-51-0018',\n",
       " '590-83-4591',\n",
       " '241-72-9525',\n",
       " '262-47-2794',\n",
       " '608-96-3517',\n",
       " '279-74-2924',\n",
       " '307-85-2293',\n",
       " '743-04-1105',\n",
       " '423-57-2993',\n",
       " '548-46-9322',\n",
       " '505-02-0892',\n",
       " '316-55-4634',\n",
       " '608-27-6295',\n",
       " '414-12-7047',\n",
       " '895-66-0685',\n",
       " '305-14-0245',\n",
       " '732-04-5373',\n",
       " '284-34-9626',\n",
       " '437-58-8131',\n",
       " '641-43-2399',\n",
       " '542-41-0513',\n",
       " '875-46-5808',\n",
       " '394-43-4238',\n",
       " '573-58-9734',\n",
       " '817-69-8206',\n",
       " '142-63-6033',\n",
       " '656-16-1063',\n",
       " '891-58-8335',\n",
       " '560-30-5617',\n",
       " '549-03-9315',\n",
       " '790-29-1172',\n",
       " '239-36-3640',\n",
       " '468-01-2051',\n",
       " '836-82-5858',\n",
       " '466-61-5506',\n",
       " '289-65-5721',\n",
       " '545-46-3100',\n",
       " '418-02-5978',\n",
       " '269-04-5750',\n",
       " '346-84-3103',\n",
       " '376-02-8238',\n",
       " '866-05-7563',\n",
       " '785-13-7708',\n",
       " '845-51-0542',\n",
       " '110-48-7033',\n",
       " '655-85-5130',\n",
       " '154-74-7179',\n",
       " '571-94-0759',\n",
       " '783-09-1637',\n",
       " '477-24-6490',\n",
       " '566-19-5475',\n",
       " '498-41-1961',\n",
       " '283-79-9594',\n",
       " '139-20-0155',\n",
       " '585-03-5943',\n",
       " '573-10-3877',\n",
       " '396-90-2219',\n",
       " '532-59-7201',\n",
       " '276-54-0879',\n",
       " '730-61-8757',\n",
       " '868-81-1752',\n",
       " '692-27-8933',\n",
       " '374-17-3652',\n",
       " '378-07-7001',\n",
       " '433-75-6987',\n",
       " '873-95-4984',\n",
       " '400-45-1220',\n",
       " '115-99-4379',\n",
       " '565-67-6697',\n",
       " '889-04-9723',\n",
       " '453-63-6187',\n",
       " '578-80-7669',\n",
       " '201-86-2184',\n",
       " '261-12-8671',\n",
       " '843-01-4703',\n",
       " '182-69-8360',\n",
       " '868-52-7573',\n",
       " '525-88-7307',\n",
       " '596-42-3999',\n",
       " '173-82-9529',\n",
       " '760-54-1821',\n",
       " '793-10-3222',\n",
       " '346-12-3257',\n",
       " '831-64-0259',\n",
       " '725-32-9708',\n",
       " '244-08-0162',\n",
       " '569-71-4390',\n",
       " '268-03-6164',\n",
       " '848-07-1692',\n",
       " '301-81-8610',\n",
       " '198-84-7132',\n",
       " '650-98-6268',\n",
       " '741-73-3559',\n",
       " '286-75-7818',\n",
       " '616-87-0016',\n",
       " '837-55-7229',\n",
       " '394-30-3170',\n",
       " '390-80-5128',\n",
       " '296-11-7041',\n",
       " '449-27-2918',\n",
       " '891-01-7034',\n",
       " '744-09-5786',\n",
       " '767-54-1907',\n",
       " '710-46-4433',\n",
       " '533-33-5337',\n",
       " '234-03-4040',\n",
       " '554-53-3790',\n",
       " '731-59-7531',\n",
       " '701-69-8742',\n",
       " '305-18-3552',\n",
       " '438-01-4015',\n",
       " '709-58-4068',\n",
       " '627-95-3243',\n",
       " '686-41-0932',\n",
       " '608-04-3797',\n",
       " '437-53-3084',\n",
       " '632-32-4574',\n",
       " '401-18-8016',\n",
       " '277-63-2961',\n",
       " '282-35-2475',\n",
       " '511-54-3087',\n",
       " '387-49-4215',\n",
       " '862-17-9201',\n",
       " '291-21-5991',\n",
       " '347-72-6115',\n",
       " '425-85-2085',\n",
       " '734-91-1155',\n",
       " '286-62-6248',\n",
       " '339-38-9982',\n",
       " '827-44-5872',\n",
       " '857-67-9057',\n",
       " '339-12-4827',\n",
       " '173-50-1108',\n",
       " '841-18-8232',\n",
       " '701-23-5550',\n",
       " '539-21-7227',\n",
       " '747-58-7183',\n",
       " '582-52-8065',\n",
       " '210-57-1719',\n",
       " '356-44-8813',\n",
       " '198-66-9832',\n",
       " '174-75-0888',\n",
       " '134-54-4720',\n",
       " '514-37-2845',\n",
       " '241-11-2261',\n",
       " '834-83-1826',\n",
       " '343-61-3544',\n",
       " '355-34-6244',\n",
       " '339-96-8318',\n",
       " '458-61-0011',\n",
       " '207-73-1363',\n",
       " '359-90-3665',\n",
       " '375-72-3056',\n",
       " '585-11-6748',\n",
       " '470-31-3286',\n",
       " '642-30-6693',\n",
       " '830-58-2383',\n",
       " '349-97-8902',\n",
       " '789-23-8625',\n",
       " '327-40-9673',\n",
       " '670-79-6321',\n",
       " '852-62-7105',\n",
       " '598-06-7312',\n",
       " '135-13-8269',\n",
       " '628-90-8624',\n",
       " '420-04-7590',\n",
       " '182-88-2763',\n",
       " '188-55-0967',\n",
       " '364-33-8584',\n",
       " '665-63-9737',\n",
       " '695-09-5146',\n",
       " '794-32-2436',\n",
       " '574-31-8277',\n",
       " '369-82-2676',\n",
       " '563-47-4072',\n",
       " '149-15-7606',\n",
       " '133-77-3154',\n",
       " '322-02-2271',\n",
       " '725-67-2480',\n",
       " '779-42-2410',\n",
       " '190-14-3147',\n",
       " '679-22-6530',\n",
       " '642-61-4706',\n",
       " '576-31-4774',\n",
       " '242-11-3142',\n",
       " '752-23-3760',\n",
       " '528-87-5606',\n",
       " '320-85-2052',\n",
       " '510-79-0415',\n",
       " '241-96-5076',\n",
       " '767-97-4650',\n",
       " '826-58-8051',\n",
       " '176-64-7711',\n",
       " '191-29-0321',\n",
       " '729-06-2010',\n",
       " '640-48-5028',\n",
       " '186-79-9562',\n",
       " '834-45-5519',\n",
       " '821-14-9046',\n",
       " '418-05-0656',\n",
       " '776-68-1096',\n",
       " '434-35-9162',\n",
       " '174-64-0215',\n",
       " '299-29-0180',\n",
       " '438-23-1242',\n",
       " '238-45-6950',\n",
       " '197-77-7132',\n",
       " '457-13-1708',\n",
       " '487-79-6868',\n",
       " '210-30-7976',\n",
       " '775-72-1988',\n",
       " '785-96-0615',\n",
       " '842-40-8179',\n",
       " '525-09-8450',\n",
       " '593-14-4239',\n",
       " '388-76-2555',\n",
       " '711-31-1234',\n",
       " '707-32-7409',\n",
       " '120-54-2248',\n",
       " '875-31-8302',\n",
       " '457-94-0464',\n",
       " '744-16-7898',\n",
       " '605-83-1050',\n",
       " '359-94-5395',\n",
       " '751-15-6198',\n",
       " '831-81-6575',\n",
       " '559-61-5987',\n",
       " '565-91-4567',\n",
       " '499-27-7781',\n",
       " '869-11-3082',\n",
       " '190-59-3964',\n",
       " '366-43-6862',\n",
       " '109-86-4363',\n",
       " '222-42-0244',\n",
       " '636-17-0325',\n",
       " '343-75-9322',\n",
       " '427-45-9297',\n",
       " '670-71-7306',\n",
       " '291-59-1384',\n",
       " '866-70-2814',\n",
       " '895-03-6665',\n",
       " '770-42-8960',\n",
       " '234-36-2483',\n",
       " '152-03-4217',\n",
       " '533-66-5566',\n",
       " '361-59-0574',\n",
       " '544-55-9589',\n",
       " '608-05-3804',\n",
       " '761-49-0439',\n",
       " '490-95-0021',\n",
       " '311-13-6971',\n",
       " '114-35-5271',\n",
       " '715-20-1673',\n",
       " '811-35-1094',\n",
       " '699-88-1972',\n",
       " '509-10-0516',\n",
       " '851-98-3555',\n",
       " '624-01-8356',\n",
       " '313-66-9943',\n",
       " '777-67-2495',\n",
       " '636-98-3364',\n",
       " '181-82-6255',\n",
       " '226-34-0034',\n",
       " '321-49-7382',\n",
       " '431-66-2305',\n",
       " '825-94-5922',\n",
       " '641-62-7288',\n",
       " '501-61-1753',\n",
       " '676-10-2200',\n",
       " '365-16-4334',\n",
       " '503-21-4385',\n",
       " '305-89-2768',\n",
       " '574-80-1489',\n",
       " '200-40-6154',\n",
       " '430-02-3888',\n",
       " '794-42-3736',\n",
       " '172-42-8274',\n",
       " '214-30-2776',\n",
       " '746-04-1077',\n",
       " '448-34-8700',\n",
       " '452-04-8808',\n",
       " '883-69-1285',\n",
       " '518-71-6847',\n",
       " '156-20-0370',\n",
       " '151-33-7434',\n",
       " '374-38-5555',\n",
       " '764-44-8999',\n",
       " '552-44-5977',\n",
       " '430-53-4718',\n",
       " '602-16-6955',\n",
       " '690-01-6631',\n",
       " '303-96-2227',\n",
       " '750-67-8428',\n",
       " '631-41-3108',\n",
       " '123-19-1176',\n",
       " '373-73-7910',\n",
       " '355-53-5943',\n",
       " '665-32-9167',\n",
       " '365-64-0515',\n",
       " '252-56-2699',\n",
       " '829-34-3910',\n",
       " '656-95-9349',\n",
       " '765-26-6951',\n",
       " '329-62-1586',\n",
       " '636-48-8204',\n",
       " '549-59-1358',\n",
       " '227-03-5010',\n",
       " '189-17-4241',\n",
       " '848-62-7243',\n",
       " '595-11-5460',\n",
       " '129-29-8530',\n",
       " '272-65-1806',\n",
       " '162-48-8011',\n",
       " '106-35-6779',\n",
       " '635-40-6220',\n",
       " '817-48-8732',\n",
       " '199-75-8169',\n",
       " '877-22-3308',\n",
       " '232-11-3025',\n",
       " '382-03-4532',\n",
       " '287-21-9091',\n",
       " '381-20-0914',\n",
       " '633-44-8566',\n",
       " '504-35-8843',\n",
       " '873-51-0671',\n",
       " '594-34-4444',\n",
       " '865-92-6136',\n",
       " '212-62-1842',\n",
       " '704-48-3927',\n",
       " '630-74-5166',\n",
       " '645-44-1170',\n",
       " '642-32-2990',\n",
       " '638-60-7125',\n",
       " '668-90-8900',\n",
       " '870-54-3162',\n",
       " '802-70-5316',\n",
       " '700-81-1757',\n",
       " '354-39-5160',\n",
       " '575-30-8091',\n",
       " '239-10-7476',\n",
       " '685-64-1609',\n",
       " '238-49-0436',\n",
       " '746-94-0204',\n",
       " '782-95-9291',\n",
       " '275-28-0149',\n",
       " '101-17-6199',\n",
       " '687-47-8271',\n",
       " '796-32-9050',\n",
       " '105-31-1824',\n",
       " '249-42-3782',\n",
       " '827-26-2100',\n",
       " '175-54-2529',\n",
       " '407-63-8975',\n",
       " '851-28-6367',\n",
       " '586-25-0848',\n",
       " '400-60-7251',\n",
       " '831-07-6050',\n",
       " '856-22-8149',\n",
       " '749-24-1565',\n",
       " '888-02-0338',\n",
       " '802-43-8934',\n",
       " '319-74-2561',\n",
       " '213-72-6612',\n",
       " '721-86-6247',\n",
       " '157-13-5295',\n",
       " '645-78-8093',\n",
       " '478-06-7835',\n",
       " '540-11-4336',\n",
       " '448-81-5016',\n",
       " '217-58-1179',\n",
       " '530-90-9855',\n",
       " '604-70-6476',\n",
       " '799-71-1548',\n",
       " '290-68-2984',\n",
       " '704-11-6354',\n",
       " '366-93-0948',\n",
       " '729-09-9681',\n",
       " '151-16-1484',\n",
       " '850-41-9669',\n",
       " '447-15-7839',\n",
       " '253-12-6086',\n",
       " '144-51-6085',\n",
       " '731-14-2199',\n",
       " '126-54-1082',\n",
       " '633-91-1052',\n",
       " '828-61-5674',\n",
       " '136-08-6195',\n",
       " '490-29-1201',\n",
       " '667-92-0055',\n",
       " '565-17-3836',\n",
       " '430-60-3493',\n",
       " '278-97-7759',\n",
       " '316-68-6352',\n",
       " '744-02-5987',\n",
       " '307-83-9164',\n",
       " '439-54-7422',\n",
       " '411-77-0180',\n",
       " '286-01-5402',\n",
       " '803-17-8013',\n",
       " '512-98-1403',\n",
       " '848-42-2560',\n",
       " '870-76-1733',\n",
       " '423-64-4619',\n",
       " '372-94-8041',\n",
       " '563-91-7120',\n",
       " '746-54-5508',\n",
       " '815-11-1168',\n",
       " '340-66-0321',\n",
       " '634-97-8956',\n",
       " '566-71-1091',\n",
       " '442-48-3607',\n",
       " '527-09-6272',\n",
       " '898-04-2717',\n",
       " '150-89-8043',\n",
       " '135-84-8019',\n",
       " '441-94-7118',\n",
       " '531-80-1784',\n",
       " '834-61-8124',\n",
       " '612-36-5536',\n",
       " '462-67-9126',\n",
       " '468-88-0009',\n",
       " '254-31-0042',\n",
       " '422-29-8786',\n",
       " '667-23-5919',\n",
       " '289-15-7034',\n",
       " '662-72-2873',\n",
       " '725-56-0833',\n",
       " '563-36-9814',\n",
       " '308-47-4913',\n",
       " '885-17-6250',\n",
       " '726-27-2396',\n",
       " '316-01-3952',\n",
       " '882-40-4577',\n",
       " '732-67-5346',\n",
       " '256-08-8343',\n",
       " '132-23-6451',\n",
       " '696-90-2548',\n",
       " '472-15-9636',\n",
       " '745-71-3520',\n",
       " '269-10-8440',\n",
       " '325-77-6186',\n",
       " '459-50-7686',\n",
       " '345-08-4992',\n",
       " '138-17-5109',\n",
       " '301-11-9629',\n",
       " '727-17-0390',\n",
       " '568-88-3448',\n",
       " '187-83-5490',\n",
       " '470-32-9057',\n",
       " '340-21-9136',\n",
       " '405-31-3305',\n",
       " '676-39-6028',\n",
       " '502-05-1910',\n",
       " '485-30-8700',\n",
       " '575-67-1508',\n",
       " '674-15-9296',\n",
       " '795-49-7276',\n",
       " '510-09-5628',\n",
       " '420-18-8989',\n",
       " '726-29-6793',\n",
       " '209-61-0206',\n",
       " '595-27-4851',\n",
       " '189-52-0236',\n",
       " '220-28-1851',\n",
       " '609-81-8548',\n",
       " '534-01-4457',\n",
       " '719-89-8991',\n",
       " '827-77-7633',\n",
       " '287-83-1405',\n",
       " '435-13-4908',\n",
       " '892-05-6689',\n",
       " '643-38-7867',\n",
       " '308-81-0538',\n",
       " '460-35-4390',\n",
       " '647-50-1224',\n",
       " '541-48-8554',\n",
       " '213-32-1216',\n",
       " '134-75-2619',\n",
       " '712-39-0363',\n",
       " '218-59-9410',\n",
       " '760-90-2357',\n",
       " '698-98-5964',\n",
       " '651-88-7328',\n",
       " '239-48-4278',\n",
       " '550-84-8664',\n",
       " '797-88-0493',\n",
       " '443-82-0585',\n",
       " '127-47-6963',\n",
       " '278-86-2735',\n",
       " '695-28-6250',\n",
       " '227-50-3718',\n",
       " '560-49-6611',\n",
       " '880-35-0356',\n",
       " '152-68-2907',\n",
       " '334-64-2006',\n",
       " '559-98-9873',\n",
       " '318-12-0304',\n",
       " '421-95-9805',\n",
       " '443-59-0061',\n",
       " '509-29-3912',\n",
       " '828-46-6863',\n",
       " '420-97-3340',\n",
       " '436-54-4512',\n",
       " '816-57-2053',\n",
       " '856-66-2701',\n",
       " '308-39-1707',\n",
       " '149-61-1929',\n",
       " '655-07-2265',\n",
       " '589-02-8023',\n",
       " '610-46-4100',\n",
       " '706-36-6154',\n",
       " '742-04-5161',\n",
       " '169-52-4504',\n",
       " '562-12-5430',\n",
       " '816-72-8853',\n",
       " '491-38-3499',\n",
       " '518-17-2983',\n",
       " '588-47-8641',\n",
       " '811-03-8790',\n",
       " '274-05-5470',\n",
       " '130-67-4723',\n",
       " '105-10-6182',\n",
       " '648-83-1321',\n",
       " '305-03-2383',\n",
       " '689-05-1884',\n",
       " '800-09-8606',\n",
       " '182-52-7000',\n",
       " '868-06-0466',\n",
       " '445-30-9252',\n",
       " '786-94-2700',\n",
       " '258-92-7466',\n",
       " '857-16-3520',\n",
       " '482-17-1179',\n",
       " '788-21-5741',\n",
       " '247-11-2470',\n",
       " '635-28-5728',\n",
       " '756-49-0168',\n",
       " '805-86-0265',\n",
       " '373-14-0504',\n",
       " '546-80-2899',\n",
       " '585-86-8361',\n",
       " '807-14-7833',\n",
       " '652-43-6591',\n",
       " '406-46-7107',\n",
       " '250-17-5703',\n",
       " '156-95-3964',\n",
       " '410-67-1709',\n",
       " '587-73-4862',\n",
       " '787-87-2010',\n",
       " '886-54-6089',\n",
       " '534-53-3526',\n",
       " '307-04-2070',\n",
       " '404-91-5964',\n",
       " '497-37-6538',\n",
       " '651-96-5970',\n",
       " '263-12-5321',\n",
       " '702-72-0487',\n",
       " '864-24-7918',\n",
       " '759-29-9521',\n",
       " '220-68-6701',\n",
       " '618-34-8551',\n",
       " '257-60-7754',\n",
       " '380-60-5336',\n",
       " '674-56-6360',\n",
       " '778-34-2523',\n",
       " '832-51-6761',\n",
       " '186-43-8965',\n",
       " '276-75-6884',\n",
       " '569-76-2760',\n",
       " '760-53-9233',\n",
       " '416-17-9926',\n",
       " '237-44-6163',\n",
       " '528-14-9470',\n",
       " '807-34-3742',\n",
       " '288-62-1085',\n",
       " '497-36-0989',\n",
       " '860-73-6466',\n",
       " '896-34-0956',\n",
       " '804-38-3935',\n",
       " '585-90-0249',\n",
       " '125-45-2293',\n",
       " '843-73-4724',\n",
       " '409-33-9708',\n",
       " '160-22-2687',\n",
       " '748-45-2862',\n",
       " '316-66-3011',\n",
       " '840-76-5966',\n",
       " '124-31-1458',\n",
       " '852-82-2749',\n",
       " '873-14-6353',\n",
       " '166-19-2553',\n",
       " '737-88-5876',\n",
       " '448-61-3783',\n",
       " '291-55-6563',\n",
       " '548-48-3156',\n",
       " '460-93-5834',\n",
       " '325-89-4209',\n",
       " '884-80-6021',\n",
       " '880-46-5796',\n",
       " '146-09-5432',\n",
       " '595-94-9924',\n",
       " '865-41-9075',\n",
       " '186-71-5196',\n",
       " '453-33-6436',\n",
       " '522-57-8364',\n",
       " '459-45-2396',\n",
       " '749-81-8133',\n",
       " '397-25-8725',\n",
       " '243-55-8457',\n",
       " '361-85-2571',\n",
       " '131-70-8179',\n",
       " '720-72-2436',\n",
       " '809-69-9497',\n",
       " '449-16-6770',\n",
       " '333-23-2632',\n",
       " '489-82-1237',\n",
       " '846-10-0341',\n",
       " '384-59-6655',\n",
       " '324-92-3863',\n",
       " '593-08-5916',\n",
       " '558-60-5016',\n",
       " '195-06-0432',\n",
       " '605-03-2706',\n",
       " '531-56-4728',\n",
       " '221-25-5073',\n",
       " '809-46-1866',\n",
       " '139-32-4183',\n",
       " '886-18-2897',\n",
       " '745-74-0715',\n",
       " '727-02-1313',\n",
       " '347-56-2442',\n",
       " '849-09-3807',\n",
       " '226-31-3081',\n",
       " '699-14-3026',\n",
       " '315-22-5665',\n",
       " '300-71-4605',\n",
       " '183-56-6882',\n",
       " '232-16-2483',\n",
       " '333-73-7901',\n",
       " '554-53-8700',\n",
       " '228-96-1411',\n",
       " '617-15-4209',\n",
       " '574-22-5561',\n",
       " '326-78-5178',\n",
       " '778-71-5554',\n",
       " '399-46-5918',\n",
       " '120-06-4233',\n",
       " '285-68-5083',\n",
       " '803-83-5989',\n",
       " '838-78-4295',\n",
       " '393-65-2792',\n",
       " '796-12-2025',\n",
       " '841-35-6630',\n",
       " '732-94-0499',\n",
       " '263-10-3913',\n",
       " '829-49-1914',\n",
       " '756-01-7507',\n",
       " '870-72-4431',\n",
       " '480-63-2856',\n",
       " '787-56-0757',\n",
       " '360-39-5055',\n",
       " '730-50-9884',\n",
       " '362-58-8315',\n",
       " '565-80-5980',\n",
       " '225-32-0908',\n",
       " '512-91-0811',\n",
       " '871-39-9221',\n",
       " '163-56-7055',\n",
       " '189-98-2939',\n",
       " '551-21-3069',\n",
       " '628-34-3388',\n",
       " '588-01-7461',\n",
       " '861-77-0145',\n",
       " '210-67-5886',\n",
       " '237-01-6122',\n",
       " '225-98-1496',\n",
       " '659-36-1684',\n",
       " '336-78-2147',\n",
       " '189-08-9157',\n",
       " '663-86-9076',\n",
       " '483-71-1164',\n",
       " '597-78-7908',\n",
       " '731-81-9469',\n",
       " '280-17-4359',\n",
       " '338-65-2210',\n",
       " '488-25-4221',\n",
       " '458-41-1477',\n",
       " '568-90-5112',\n",
       " '584-86-7256',\n",
       " '214-17-6927',\n",
       " '400-89-4171',\n",
       " '894-41-5205',\n",
       " '423-80-0988',\n",
       " '234-65-2137',\n",
       " '733-33-4967',\n",
       " '139-52-2867',\n",
       " '342-65-4817',\n",
       " '130-98-8941',\n",
       " '434-83-9547',\n",
       " '824-88-3614',\n",
       " '593-65-1552',\n",
       " '286-43-6208',\n",
       " '556-86-3144',\n",
       " '848-24-9445',\n",
       " '699-01-4164',\n",
       " '420-11-4919',\n",
       " '606-80-4905',\n",
       " '426-39-2418',\n",
       " '672-51-8681',\n",
       " '263-87-5680',\n",
       " '677-11-0152',\n",
       " '389-25-3394',\n",
       " '279-62-1445',\n",
       " '746-68-6593',\n",
       " '583-72-1480',\n",
       " '211-30-9270',\n",
       " '755-12-3214',\n",
       " '142-72-4741',\n",
       " '662-47-5456',\n",
       " '883-17-4236',\n",
       " '380-94-4661',\n",
       " '821-07-3596',\n",
       " '808-65-0703',\n",
       " '687-15-1097',\n",
       " '526-86-8552',\n",
       " '376-56-3573',\n",
       " '537-72-0426',\n",
       " '523-38-0215',\n",
       " '593-95-4461',\n",
       " '226-71-3580',\n",
       " '558-80-4082',\n",
       " '211-05-0490',\n",
       " '727-75-6477',\n",
       " '779-06-0012',\n",
       " '446-47-6729',\n",
       " '735-06-4124',\n",
       " '181-94-6432',\n",
       " '227-07-4446',\n",
       " '174-36-3675',\n",
       " '428-83-5800',\n",
       " '603-07-0961',\n",
       " '704-20-4138',\n",
       " '787-15-1757',\n",
       " '649-11-3678',\n",
       " '622-20-1945',\n",
       " '719-76-3868',\n",
       " '835-16-0096',\n",
       " '633-09-3463',\n",
       " '416-13-5917',\n",
       " '725-96-3778',\n",
       " '860-79-0874',\n",
       " '320-49-6392',\n",
       " '632-90-0281',\n",
       " '554-42-2417',\n",
       " '605-72-4132',\n",
       " '471-41-2823',\n",
       " '272-27-9238',\n",
       " '834-25-9262',\n",
       " '122-61-9553',\n",
       " '613-59-9758',\n",
       " '730-70-9830',\n",
       " '382-25-8917',\n",
       " '743-88-1662',\n",
       " '595-86-2894',\n",
       " '462-78-5240',\n",
       " '153-58-4872',\n",
       " '689-16-9784',\n",
       " '394-41-0748',\n",
       " '541-89-9860',\n",
       " '110-05-6330',\n",
       " '651-61-0874',\n",
       " '236-86-3015',\n",
       " '587-03-7455',\n",
       " '372-26-1506',\n",
       " '750-57-9686',\n",
       " '186-09-3669',\n",
       " '266-76-6436',\n",
       " '740-22-2500',\n",
       " '271-88-8734',\n",
       " '489-64-4354',\n",
       " '574-57-9721',\n",
       " '751-69-0068',\n",
       " '257-73-1380',\n",
       " '549-96-4200',\n",
       " '810-60-6344',\n",
       " '450-28-2866',\n",
       " '192-98-7397',\n",
       " '235-46-8343',\n",
       " '453-12-7053',\n",
       " '325-90-8763',\n",
       " '729-46-7422',\n",
       " '639-76-1242',\n",
       " '326-71-2155',\n",
       " '320-32-8842',\n",
       " '878-30-2331',\n",
       " '440-59-5691',\n",
       " '746-19-0921',\n",
       " '233-34-0817',\n",
       " '767-05-1286',\n",
       " '598-47-9715',\n",
       " '541-08-3113',\n",
       " '246-11-3901',\n",
       " '493-65-6248',\n",
       " '556-72-8512',\n",
       " '148-82-2527',\n",
       " '556-97-7101',\n",
       " '862-59-8517',\n",
       " '573-98-8548',\n",
       " '620-02-2046',\n",
       " '602-80-9671',\n",
       " '503-07-0930',\n",
       " '413-20-6708',\n",
       " '521-18-7827',\n",
       " '600-38-9738',\n",
       " '451-28-5717',\n",
       " '133-14-7229',\n",
       " '236-27-1144',\n",
       " '583-41-4548',\n",
       " '358-88-9262',\n",
       " '343-87-0864',\n",
       " '243-47-2663',\n",
       " '399-69-4630',\n",
       " '283-26-5248',\n",
       " '866-99-7614',\n",
       " '718-57-9773',\n",
       " '408-26-9866',\n",
       " '592-34-6155',\n",
       " '390-31-6381',\n",
       " '339-18-7061',\n",
       " '379-17-6588',\n",
       " '302-15-2162',\n",
       " '788-07-8452',\n",
       " '123-35-4896',\n",
       " '258-69-7810',\n",
       " '219-61-4139',\n",
       " '881-41-7302',\n",
       " '373-09-4567',\n",
       " '484-22-8230',\n",
       " '544-32-5024',\n",
       " '277-35-5865',\n",
       " '284-54-4231',\n",
       " '840-19-2096',\n",
       " '641-96-3695',\n",
       " '318-81-2368',\n",
       " '155-45-3814',\n",
       " '131-15-8856',\n",
       " '273-84-2164',\n",
       " '778-89-7974',\n",
       " '859-71-0933',\n",
       " '740-11-5257',\n",
       " '250-81-7186',\n",
       " '842-29-4695',\n",
       " '641-51-2661',\n",
       " '714-02-3114',\n",
       " '408-66-6712',\n",
       " '556-41-6224',\n",
       " '648-94-3045',\n",
       " '370-96-0655',\n",
       " '173-57-2300',\n",
       " '394-55-6384',\n",
       " '266-20-6657',\n",
       " '196-01-2849',\n",
       " '372-62-5264',\n",
       " '751-41-9720',\n",
       " '626-43-7888',\n",
       " '162-65-8559',\n",
       " '760-27-5490',\n",
       " '728-88-7867',\n",
       " '183-21-3799',\n",
       " '268-20-3585',\n",
       " '735-32-9839',\n",
       " '678-79-0726',\n",
       " '592-46-1692',\n",
       " '149-14-0304',\n",
       " '442-44-6497',\n",
       " '210-74-9613',\n",
       " '607-65-2441',\n",
       " '386-27-7606',\n",
       " '137-63-5492',\n",
       " '733-29-1227',\n",
       " '451-73-2711',\n",
       " '345-68-9016',\n",
       " '390-17-5806',\n",
       " '664-14-2882',\n",
       " '314-23-4520',\n",
       " '288-38-3758',\n",
       " '801-88-0346',\n",
       " '759-98-4285',\n",
       " '201-63-8275',\n",
       " '471-06-8611',\n",
       " '200-16-5952',\n",
       " '102-77-2261',\n",
       " '102-06-2002',\n",
       " '629-42-4133',\n",
       " '468-99-7231',\n",
       " '516-77-6464',\n",
       " '886-77-9084',\n",
       " '790-38-4466',\n",
       " '704-10-4056',\n",
       " '400-80-4065',\n",
       " '443-60-9639',\n",
       " '401-09-4232',\n",
       " '324-41-6833',\n",
       " '474-33-8305',\n",
       " '189-55-2313',\n",
       " '815-04-6282',\n",
       " '477-59-2456',\n",
       " '784-21-9238',\n",
       " '538-22-0304',\n",
       " '660-29-7083',\n",
       " '271-77-8740',\n",
       " '549-23-9016',\n",
       " '862-29-5914',\n",
       " '845-94-6841',\n",
       " '658-66-3967',\n",
       " '848-95-6252',\n",
       " '176-78-1170',\n",
       " '101-81-4070',\n",
       " '631-34-1880',\n",
       " '584-66-4073',\n",
       " '154-87-7367',\n",
       " '885-56-0389',\n",
       " '115-38-7388',\n",
       " '137-74-8729',\n",
       " '389-70-2397',\n",
       " '607-76-6216',\n",
       " '781-84-8059',\n",
       " '409-49-6995',\n",
       " '725-54-0677',\n",
       " '377-79-7592',\n",
       " '545-07-8534',\n",
       " '118-62-1812',\n",
       " '450-42-3339',\n",
       " '151-27-8496',\n",
       " '717-96-4189',\n",
       " '722-13-2115',\n",
       " '246-55-6923',\n",
       " '838-02-1821',\n",
       " '887-42-0517',\n",
       " '457-12-0244',\n",
       " '756-93-1854',\n",
       " '458-10-8612',\n",
       " '235-06-8510',\n",
       " '433-08-7822',\n",
       " '500-02-2261',\n",
       " '702-83-5291',\n",
       " '859-97-6048',\n",
       " '373-88-1424',\n",
       " '784-08-0310',\n",
       " '577-34-7579',\n",
       " '867-47-1948',\n",
       " '256-58-3609',\n",
       " '364-34-2972',\n",
       " '744-82-9138',\n",
       " '728-47-9078',\n",
       " '148-41-7930',\n",
       " '189-40-5216',\n",
       " '267-62-7380',\n",
       " '652-49-6720',\n",
       " '233-67-5758']"
      ]
     },
     "execution_count": 51,
     "metadata": {},
     "output_type": "execute_result"
    }
   ],
   "source": [
    "unique_invoice"
   ]
  },
  {
   "cell_type": "code",
   "execution_count": 52,
   "metadata": {},
   "outputs": [
    {
     "name": "stdout",
     "output_type": "stream",
     "text": [
      "Total number of unique values in Invoice ID column is 1000\n"
     ]
    }
   ],
   "source": [
    "print('Total number of unique values in Invoice ID column is {}'.format(len(unique_invoice)))"
   ]
  },
  {
   "cell_type": "code",
   "execution_count": 53,
   "metadata": {},
   "outputs": [],
   "source": [
    "unique_city = DF['City'].unique().tolist()"
   ]
  },
  {
   "cell_type": "code",
   "execution_count": 54,
   "metadata": {},
   "outputs": [
    {
     "data": {
      "text/plain": [
       "['Abuja', 'Lagos', 'Port Harcourt']"
      ]
     },
     "execution_count": 54,
     "metadata": {},
     "output_type": "execute_result"
    }
   ],
   "source": [
    "unique_city"
   ]
  },
  {
   "cell_type": "code",
   "execution_count": 55,
   "metadata": {},
   "outputs": [
    {
     "name": "stdout",
     "output_type": "stream",
     "text": [
      "Total number of unique values in City column is 3\n"
     ]
    }
   ],
   "source": [
    "print('Total number of unique values in City column is {}'.format(len(unique_city)))"
   ]
  },
  {
   "cell_type": "code",
   "execution_count": 56,
   "metadata": {},
   "outputs": [],
   "source": [
    "unique_customer = DF['Customer type'].unique().tolist()"
   ]
  },
  {
   "cell_type": "code",
   "execution_count": 57,
   "metadata": {},
   "outputs": [
    {
     "data": {
      "text/plain": [
       "['Member', 'Normal']"
      ]
     },
     "execution_count": 57,
     "metadata": {},
     "output_type": "execute_result"
    }
   ],
   "source": [
    "unique_customer"
   ]
  },
  {
   "cell_type": "code",
   "execution_count": 58,
   "metadata": {},
   "outputs": [
    {
     "name": "stdout",
     "output_type": "stream",
     "text": [
      "Total number of unique values in the Customer type column is 2\n"
     ]
    }
   ],
   "source": [
    "print('Total number of unique values in the Customer type column is {}'.format(len(unique_customer)))"
   ]
  },
  {
   "cell_type": "code",
   "execution_count": 59,
   "metadata": {},
   "outputs": [],
   "source": [
    "unique_gender = DF['Gender'].unique().tolist()"
   ]
  },
  {
   "cell_type": "code",
   "execution_count": 60,
   "metadata": {},
   "outputs": [
    {
     "data": {
      "text/plain": [
       "['Female', 'Male']"
      ]
     },
     "execution_count": 60,
     "metadata": {},
     "output_type": "execute_result"
    }
   ],
   "source": [
    "unique_gender"
   ]
  },
  {
   "cell_type": "code",
   "execution_count": 61,
   "metadata": {},
   "outputs": [
    {
     "name": "stdout",
     "output_type": "stream",
     "text": [
      "Total number of unique values in the Gender column is 2\n"
     ]
    }
   ],
   "source": [
    "print('Total number of unique values in the Gender column is {}'.format(len(unique_gender)))"
   ]
  },
  {
   "cell_type": "code",
   "execution_count": 62,
   "metadata": {},
   "outputs": [],
   "source": [
    "unique_Product = DF['Product line'].unique().tolist()"
   ]
  },
  {
   "cell_type": "code",
   "execution_count": 63,
   "metadata": {},
   "outputs": [
    {
     "data": {
      "text/plain": [
       "['Food and beverages',\n",
       " 'Fashion accessories',\n",
       " 'Electronic accessories',\n",
       " 'Sports and travel',\n",
       " 'Home and lifestyle',\n",
       " 'Health and beauty']"
      ]
     },
     "execution_count": 63,
     "metadata": {},
     "output_type": "execute_result"
    }
   ],
   "source": [
    "unique_Product"
   ]
  },
  {
   "cell_type": "code",
   "execution_count": 65,
   "metadata": {},
   "outputs": [
    {
     "name": "stdout",
     "output_type": "stream",
     "text": [
      "Total number of unique values in the Product line column is 6\n"
     ]
    }
   ],
   "source": [
    "print('Total number of unique values in the Product line column is {}'.format(len(unique_Product)))"
   ]
  },
  {
   "cell_type": "code",
   "execution_count": 66,
   "metadata": {},
   "outputs": [],
   "source": [
    "unique_payment = DF['Payment'].unique().tolist()"
   ]
  },
  {
   "cell_type": "code",
   "execution_count": 67,
   "metadata": {},
   "outputs": [
    {
     "data": {
      "text/plain": [
       "['Card', 'Epay', 'Cash']"
      ]
     },
     "execution_count": 67,
     "metadata": {},
     "output_type": "execute_result"
    }
   ],
   "source": [
    "unique_payment"
   ]
  },
  {
   "cell_type": "code",
   "execution_count": 68,
   "metadata": {},
   "outputs": [
    {
     "name": "stdout",
     "output_type": "stream",
     "text": [
      "Total number of unique values in the Payment column is 3\n"
     ]
    }
   ],
   "source": [
    "print('Total number of unique values in the Payment column is {}'.format(len(unique_payment)))"
   ]
  },
  {
   "cell_type": "markdown",
   "metadata": {},
   "source": [
    "#### Using value_counts() to genrate count figures of unique values in each categorical column"
   ]
  },
  {
   "cell_type": "code",
   "execution_count": 69,
   "metadata": {},
   "outputs": [
    {
     "data": {
      "text/plain": [
       "648-83-1321    1\n",
       "436-54-4512    1\n",
       "878-30-2331    1\n",
       "767-54-1907    1\n",
       "394-55-6384    1\n",
       "              ..\n",
       "388-76-2555    1\n",
       "667-92-0055    1\n",
       "732-94-0499    1\n",
       "198-84-7132    1\n",
       "500-02-2261    1\n",
       "Name: Invoice ID, Length: 1000, dtype: int64"
      ]
     },
     "execution_count": 69,
     "metadata": {},
     "output_type": "execute_result"
    }
   ],
   "source": [
    "DF['Invoice ID'].value_counts()"
   ]
  },
  {
   "cell_type": "code",
   "execution_count": 70,
   "metadata": {},
   "outputs": [
    {
     "data": {
      "text/plain": [
       "A    340\n",
       "B    332\n",
       "C    328\n",
       "Name: Branch, dtype: int64"
      ]
     },
     "execution_count": 70,
     "metadata": {},
     "output_type": "execute_result"
    }
   ],
   "source": [
    "DF['Branch'].value_counts()"
   ]
  },
  {
   "cell_type": "code",
   "execution_count": 71,
   "metadata": {},
   "outputs": [
    {
     "data": {
      "text/plain": [
       "Lagos            340\n",
       "Abuja            332\n",
       "Port Harcourt    328\n",
       "Name: City, dtype: int64"
      ]
     },
     "execution_count": 71,
     "metadata": {},
     "output_type": "execute_result"
    }
   ],
   "source": [
    "DF['City'].value_counts()"
   ]
  },
  {
   "cell_type": "code",
   "execution_count": 72,
   "metadata": {},
   "outputs": [
    {
     "data": {
      "text/plain": [
       "Member    501\n",
       "Normal    499\n",
       "Name: Customer type, dtype: int64"
      ]
     },
     "execution_count": 72,
     "metadata": {},
     "output_type": "execute_result"
    }
   ],
   "source": [
    "DF['Customer type'].value_counts()"
   ]
  },
  {
   "cell_type": "code",
   "execution_count": 73,
   "metadata": {},
   "outputs": [
    {
     "data": {
      "text/plain": [
       "Female    501\n",
       "Male      499\n",
       "Name: Gender, dtype: int64"
      ]
     },
     "execution_count": 73,
     "metadata": {},
     "output_type": "execute_result"
    }
   ],
   "source": [
    "DF['Gender'].value_counts()"
   ]
  },
  {
   "cell_type": "code",
   "execution_count": 74,
   "metadata": {},
   "outputs": [
    {
     "data": {
      "text/plain": [
       "Fashion accessories       178\n",
       "Food and beverages        174\n",
       "Electronic accessories    170\n",
       "Sports and travel         166\n",
       "Home and lifestyle        160\n",
       "Health and beauty         152\n",
       "Name: Product line, dtype: int64"
      ]
     },
     "execution_count": 74,
     "metadata": {},
     "output_type": "execute_result"
    }
   ],
   "source": [
    "DF['Product line'].value_counts()"
   ]
  },
  {
   "cell_type": "code",
   "execution_count": 75,
   "metadata": {},
   "outputs": [
    {
     "data": {
      "text/plain": [
       "Epay    345\n",
       "Cash    344\n",
       "Card    311\n",
       "Name: Payment, dtype: int64"
      ]
     },
     "execution_count": 75,
     "metadata": {},
     "output_type": "execute_result"
    }
   ],
   "source": [
    "DF['Payment'].value_counts()"
   ]
  },
  {
   "cell_type": "markdown",
   "metadata": {},
   "source": [
    "## Step 5:Aggregation with GroupBy"
   ]
  },
  {
   "cell_type": "code",
   "execution_count": 77,
   "metadata": {},
   "outputs": [],
   "source": [
    "city_group = DF.groupby('City')"
   ]
  },
  {
   "cell_type": "code",
   "execution_count": 79,
   "metadata": {},
   "outputs": [
    {
     "data": {
      "text/plain": [
       "3"
      ]
     },
     "execution_count": 79,
     "metadata": {},
     "output_type": "execute_result"
    }
   ],
   "source": [
    "DF['City'].nunique()"
   ]
  },
  {
   "cell_type": "code",
   "execution_count": 80,
   "metadata": {},
   "outputs": [
    {
     "data": {
      "text/plain": [
       "City\n",
       "Abuja            332\n",
       "Lagos            340\n",
       "Port Harcourt    328\n",
       "dtype: int64"
      ]
     },
     "execution_count": 80,
     "metadata": {},
     "output_type": "execute_result"
    }
   ],
   "source": [
    "city_group.size()"
   ]
  },
  {
   "cell_type": "markdown",
   "metadata": {},
   "source": [
    "#### aggregate function of sum and mean"
   ]
  },
  {
   "cell_type": "code",
   "execution_count": 93,
   "metadata": {},
   "outputs": [],
   "source": [
    "dd = city_group.agg({'gross income':['sum', 'mean'], \n",
    "                'cogs':['sum', 'mean'], \n",
    "                'Quantity':['sum', 'mean'], \n",
    "                'Unit price':['sum', 'mean']})"
   ]
  },
  {
   "cell_type": "code",
   "execution_count": 94,
   "metadata": {},
   "outputs": [
    {
     "data": {
      "text/html": [
       "<div>\n",
       "<style scoped>\n",
       "    .dataframe tbody tr th:only-of-type {\n",
       "        vertical-align: middle;\n",
       "    }\n",
       "\n",
       "    .dataframe tbody tr th {\n",
       "        vertical-align: top;\n",
       "    }\n",
       "\n",
       "    .dataframe thead tr th {\n",
       "        text-align: left;\n",
       "    }\n",
       "\n",
       "    .dataframe thead tr:last-of-type th {\n",
       "        text-align: right;\n",
       "    }\n",
       "</style>\n",
       "<table border=\"1\" class=\"dataframe\">\n",
       "  <thead>\n",
       "    <tr>\n",
       "      <th></th>\n",
       "      <th colspan=\"2\" halign=\"left\">gross income</th>\n",
       "      <th colspan=\"2\" halign=\"left\">cogs</th>\n",
       "      <th colspan=\"2\" halign=\"left\">Quantity</th>\n",
       "      <th colspan=\"2\" halign=\"left\">Unit price</th>\n",
       "    </tr>\n",
       "    <tr>\n",
       "      <th></th>\n",
       "      <th>sum</th>\n",
       "      <th>mean</th>\n",
       "      <th>sum</th>\n",
       "      <th>mean</th>\n",
       "      <th>sum</th>\n",
       "      <th>mean</th>\n",
       "      <th>sum</th>\n",
       "      <th>mean</th>\n",
       "    </tr>\n",
       "    <tr>\n",
       "      <th>City</th>\n",
       "      <th></th>\n",
       "      <th></th>\n",
       "      <th></th>\n",
       "      <th></th>\n",
       "      <th></th>\n",
       "      <th></th>\n",
       "      <th></th>\n",
       "      <th></th>\n",
       "    </tr>\n",
       "  </thead>\n",
       "  <tbody>\n",
       "    <tr>\n",
       "      <th>Abuja</th>\n",
       "      <td>1820531.52</td>\n",
       "      <td>5483.528675</td>\n",
       "      <td>36410630.4</td>\n",
       "      <td>109670.573494</td>\n",
       "      <td>1820</td>\n",
       "      <td>5.481928</td>\n",
       "      <td>6652396.8</td>\n",
       "      <td>20037.339759</td>\n",
       "    </tr>\n",
       "    <tr>\n",
       "      <th>Lagos</th>\n",
       "      <td>1820577.78</td>\n",
       "      <td>5354.640529</td>\n",
       "      <td>36411555.6</td>\n",
       "      <td>107092.810588</td>\n",
       "      <td>1859</td>\n",
       "      <td>5.467647</td>\n",
       "      <td>6705176.4</td>\n",
       "      <td>19721.107059</td>\n",
       "    </tr>\n",
       "    <tr>\n",
       "      <th>Port Harcourt</th>\n",
       "      <td>1895463.54</td>\n",
       "      <td>5778.852256</td>\n",
       "      <td>37909270.8</td>\n",
       "      <td>115577.045122</td>\n",
       "      <td>1831</td>\n",
       "      <td>5.582317</td>\n",
       "      <td>6684393.6</td>\n",
       "      <td>20379.248780</td>\n",
       "    </tr>\n",
       "  </tbody>\n",
       "</table>\n",
       "</div>"
      ],
      "text/plain": [
       "              gross income                     cogs                Quantity  \\\n",
       "                       sum         mean         sum           mean      sum   \n",
       "City                                                                          \n",
       "Abuja           1820531.52  5483.528675  36410630.4  109670.573494     1820   \n",
       "Lagos           1820577.78  5354.640529  36411555.6  107092.810588     1859   \n",
       "Port Harcourt   1895463.54  5778.852256  37909270.8  115577.045122     1831   \n",
       "\n",
       "                        Unit price                \n",
       "                   mean        sum          mean  \n",
       "City                                              \n",
       "Abuja          5.481928  6652396.8  20037.339759  \n",
       "Lagos          5.467647  6705176.4  19721.107059  \n",
       "Port Harcourt  5.582317  6684393.6  20379.248780  "
      ]
     },
     "execution_count": 94,
     "metadata": {},
     "output_type": "execute_result"
    }
   ],
   "source": [
    "dd"
   ]
  },
  {
   "cell_type": "code",
   "execution_count": 95,
   "metadata": {},
   "outputs": [
    {
     "data": {
      "text/plain": [
       "1895463.539999999"
      ]
     },
     "execution_count": 95,
     "metadata": {},
     "output_type": "execute_result"
    }
   ],
   "source": [
    "dd[('gross income', 'sum')].max()"
   ]
  },
  {
   "cell_type": "markdown",
   "metadata": {},
   "source": [
    "The table above shows the sums and mean values of gross income, cogs, Quantity, and Unit price.\n",
    "\n",
    "For this supermarket, the Port Harcourt branch has the highest gross income, as inidcated by the max method - 1895463.54"
   ]
  },
  {
   "cell_type": "markdown",
   "metadata": {},
   "source": [
    "## Step 6: Data Visualization"
   ]
  },
  {
   "cell_type": "code",
   "execution_count": 128,
   "metadata": {},
   "outputs": [
    {
     "data": {
      "text/plain": [
       "Text(0.5, 1.0, 'Branch Grouping by sales')"
      ]
     },
     "execution_count": 128,
     "metadata": {},
     "output_type": "execute_result"
    },
    {
     "data": {
      "image/png": "[encoded data removed]",
      "text/plain": [
       "<Figure size 432x288 with 1 Axes>"
      ]
     },
     "metadata": {},
     "output_type": "display_data"
    }
   ],
   "source": [
    "sns.countplot(x='Branch', data=DF, order=['A', 'B', 'C']).set_title('Branch Grouping by sales')"
   ]
  },
  {
   "cell_type": "markdown",
   "metadata": {},
   "source": [
    "Branch A, located in Lagos has the highest sales over the past 3 months."
   ]
  },
  {
   "cell_type": "code",
   "execution_count": 100,
   "metadata": {},
   "outputs": [
    {
     "data": {
      "text/plain": [
       "Text(0.5, 1.0, 'Grouping by Payment method')"
      ]
     },
     "execution_count": 100,
     "metadata": {},
     "output_type": "execute_result"
    },
    {
     "data": {
      "image/png": "[encoded data removed]",
      "text/plain": [
       "<Figure size 432x288 with 1 Axes>"
      ]
     },
     "metadata": {},
     "output_type": "display_data"
    }
   ],
   "source": [
    "sns.countplot(x='Payment', data=DF).set_title('Grouping by Payment method')"
   ]
  },
  {
   "cell_type": "markdown",
   "metadata": {},
   "source": [
    "This is an indicator that most customers prefer either Epay or cash payment method."
   ]
  },
  {
   "cell_type": "code",
   "execution_count": 101,
   "metadata": {},
   "outputs": [
    {
     "data": {
      "text/plain": [
       "Text(0.5, 1.0, 'Grouping by City')"
      ]
     },
     "execution_count": 101,
     "metadata": {},
     "output_type": "execute_result"
    },
    {
     "data": {
      "image/png": "[encoded data removed]",
      "text/plain": [
       "<Figure size 432x288 with 1 Axes>"
      ]
     },
     "metadata": {},
     "output_type": "display_data"
    }
   ],
   "source": [
    "sns.countplot(x='City', data=DF).set_title('Grouping by City')"
   ]
  },
  {
   "cell_type": "code",
   "execution_count": 106,
   "metadata": {},
   "outputs": [
    {
     "data": {
      "text/plain": [
       "Text(0.5, 1.0, 'Grouping by Product line')"
      ]
     },
     "execution_count": 106,
     "metadata": {},
     "output_type": "execute_result"
    },
    {
     "data": {
      "image/png": "[encoded data removed]",
      "text/plain": [
       "<Figure size 432x288 with 1 Axes>"
      ]
     },
     "metadata": {},
     "output_type": "display_data"
    }
   ],
   "source": [
    "sns.countplot(y='Product line', data=DF).set_title('Grouping by Product line')"
   ]
  },
  {
   "cell_type": "code",
   "execution_count": 107,
   "metadata": {},
   "outputs": [
    {
     "data": {
      "text/plain": [
       "Text(0.5, 1.0, 'Grouping by Payment method per product line')"
      ]
     },
     "execution_count": 107,
     "metadata": {},
     "output_type": "execute_result"
    },
    {
     "data": {
      "image/png": "[encoded data removed]",
      "text/plain": [
       "<Figure size 432x288 with 1 Axes>"
      ]
     },
     "metadata": {},
     "output_type": "display_data"
    }
   ],
   "source": [
    "sns.countplot(y='Product line', data=DF, hue='Payment').set_title('Grouping by Payment method per product line')"
   ]
  },
  {
   "cell_type": "markdown",
   "metadata": {},
   "source": [
    "Both images show that the health and beauty product line recieves the least attention from customers."
   ]
  },
  {
   "cell_type": "code",
   "execution_count": 110,
   "metadata": {},
   "outputs": [
    {
     "data": {
      "text/plain": [
       "Text(0.5, 1.0, 'Grouping by Payment method per Branch')"
      ]
     },
     "execution_count": 110,
     "metadata": {},
     "output_type": "execute_result"
    },
    {
     "data": {
      "image/png": "[encoded data removed]",
      "text/plain": [
       "<Figure size 432x288 with 1 Axes>"
      ]
     },
     "metadata": {},
     "output_type": "display_data"
    }
   ],
   "source": [
    "sns.countplot(y='Payment', data=DF, hue='Branch').set_title('Grouping by Payment method per Branch')"
   ]
  },
  {
   "cell_type": "code",
   "execution_count": 112,
   "metadata": {},
   "outputs": [
    {
     "data": {
      "text/plain": [
       "Text(0.5, 1.0, 'Branch rating')"
      ]
     },
     "execution_count": 112,
     "metadata": {},
     "output_type": "execute_result"
    },
    {
     "data": {
      "image/png": "[encoded data removed]",
      "text/plain": [
       "<Figure size 432x288 with 1 Axes>"
      ]
     },
     "metadata": {},
     "output_type": "display_data"
    }
   ],
   "source": [
    "sns.boxplot(x='Branch', y='Rating', data=DF).set_title('Branch rating')"
   ]
  },
  {
   "cell_type": "markdown",
   "metadata": {},
   "source": [
    "This shows that Branch B located in Abuja has the lowest customer rating and satisfaction, compared to the others."
   ]
  },
  {
   "cell_type": "code",
   "execution_count": 115,
   "metadata": {},
   "outputs": [
    {
     "data": {
      "text/plain": [
       "<seaborn.axisgrid.FacetGrid at 0x27238783160>"
      ]
     },
     "execution_count": 115,
     "metadata": {},
     "output_type": "execute_result"
    },
    {
     "data": {
      "image/png": "[encoded data removed]",
      "text/plain": [
       "<Figure size 1541.15x360 with 1 Axes>"
      ]
     },
     "metadata": {},
     "output_type": "display_data"
    }
   ],
   "source": [
    "sns.catplot(x='Product line', y='Quantity', hue='Gender', data=DF, aspect=4)"
   ]
  },
  {
   "cell_type": "markdown",
   "metadata": {},
   "source": [
    "The plot above shows how gender of customers affects sales of certain product lines. For instance, the food and beverages product line has females (blue) buying in larger quantities than males.\n",
    "The fashion accessories line is also dominated by females while health and beauty products seem to have the attention of males' (orange) than females."
   ]
  },
  {
   "cell_type": "code",
   "execution_count": 116,
   "metadata": {},
   "outputs": [
    {
     "data": {
      "text/plain": [
       "<seaborn.axisgrid.FacetGrid at 0x27238a1c5e0>"
      ]
     },
     "execution_count": 116,
     "metadata": {},
     "output_type": "execute_result"
    },
    {
     "data": {
      "image/png": "[encoded data removed]",
      "text/plain": [
       "<Figure size 1541.15x360 with 1 Axes>"
      ]
     },
     "metadata": {},
     "output_type": "display_data"
    }
   ],
   "source": [
    "sns.catplot(x='Product line', y='Total', hue='Gender', data=DF, aspect=4)"
   ]
  },
  {
   "cell_type": "markdown",
   "metadata": {},
   "source": [
    "The colour blue appears at the top of each product, except health and beauty category. This could be an indication that the female customers spend more than the males in this supermarket."
   ]
  },
  {
   "cell_type": "code",
   "execution_count": 117,
   "metadata": {},
   "outputs": [
    {
     "data": {
      "text/plain": [
       "<seaborn.axisgrid.FacetGrid at 0x272373ca220>"
      ]
     },
     "execution_count": 117,
     "metadata": {},
     "output_type": "execute_result"
    },
    {
     "data": {
      "image/png": "[encoded data removed]",
      "text/plain": [
       "<Figure size 1541.15x360 with 1 Axes>"
      ]
     },
     "metadata": {},
     "output_type": "display_data"
    }
   ],
   "source": [
    "sns.catplot(x='Product line', y='Quantity', hue='Gender', data=DF, aspect=4, kind='point')"
   ]
  },
  {
   "cell_type": "markdown",
   "metadata": {},
   "source": [
    "This gives a clearer view that the female gender make more purchases compared to the males. They clearly dominate 3 categories of products: food and beverages, fashion acessories, and home and lifestyle. Electronics and sports have an almost similar interest for both genders while, the health and beauty section is populated by the males."
   ]
  },
  {
   "cell_type": "code",
   "execution_count": 125,
   "metadata": {},
   "outputs": [
    {
     "data": {
      "text/plain": [
       "<seaborn.axisgrid.FacetGrid at 0x27243415cd0>"
      ]
     },
     "execution_count": 125,
     "metadata": {},
     "output_type": "execute_result"
    },
    {
     "data": {
      "image/png": "[encoded data removed]",
      "text/plain": [
       "<Figure size 1440x360 with 1 Axes>"
      ]
     },
     "metadata": {},
     "output_type": "display_data"
    }
   ],
   "source": [
    "sns.catplot(x='Quantity', y='Unit price', data=DF, aspect=4, kind='point')"
   ]
  },
  {
   "cell_type": "markdown",
   "metadata": {},
   "source": [
    "Here, we're looking at the effect of unit price on the quantity of goods purchased.\n",
    "This image shows that unit prices does not necessarily influence quantity of goods purchased generally. Regardless of price, quantities vary randomly."
   ]
  },
  {
   "cell_type": "code",
   "execution_count": 127,
   "metadata": {},
   "outputs": [
    {
     "data": {
      "text/plain": [
       "<seaborn.axisgrid.FacetGrid at 0x2724346ce80>"
      ]
     },
     "execution_count": 127,
     "metadata": {},
     "output_type": "execute_result"
    },
    {
     "data": {
      "image/png": "[encoded data removed]",
      "text/plain": [
       "<Figure size 1541.15x360 with 1 Axes>"
      ]
     },
     "metadata": {},
     "output_type": "display_data"
    }
   ],
   "source": [
    "sns.catplot(x='Quantity', y='Unit price', hue='Gender', data=DF, aspect=4, kind='point')"
   ]
  },
  {
   "cell_type": "markdown",
   "metadata": {},
   "source": [
    "Using gender as a means of assessing the relationship betweeen unit price and quantity: The males seem to be at both extremes, buying 1-2 products, or 9-10 products despite the high unit prices. However, medium priced goods between 18000-19000 sell mostly in quantities of 5, for both genders.\n",
    "This further proves that unit price does not necessarily influence quantity of goods purchased."
   ]
  },
  {
   "cell_type": "code",
   "execution_count": 132,
   "metadata": {},
   "outputs": [
    {
     "data": {
      "text/plain": [
       "<seaborn.axisgrid.FacetGrid at 0x27243e64550>"
      ]
     },
     "execution_count": 132,
     "metadata": {},
     "output_type": "execute_result"
    },
    {
     "data": {
      "image/png": "[encoded data removed]",
      "text/plain": [
       "<Figure size 1541.15x360 with 1 Axes>"
      ]
     },
     "metadata": {},
     "output_type": "display_data"
    }
   ],
   "source": [
    "sns.catplot(x='Branch', y='Rating', hue='Gender', order=['A', 'B', 'C'], data=DF, aspect=4, kind='point')"
   ]
  },
  {
   "cell_type": "markdown",
   "metadata": {},
   "source": [
    "An overview of rating across each branch, by both genders.\n",
    "Branch A of Lagos which has the highest sales record got lower ratings from the female customers. This is an important angle to look into, as female customers appear to spend more and buy in larger quantities."
   ]
  },
  {
   "cell_type": "code",
   "execution_count": 133,
   "metadata": {},
   "outputs": [
    {
     "data": {
      "text/plain": [
       "<seaborn.axisgrid.FacetGrid at 0x272349bac40>"
      ]
     },
     "execution_count": 133,
     "metadata": {},
     "output_type": "execute_result"
    },
    {
     "data": {
      "image/png": "[encoded data removed]",
      "text/plain": [
       "<Figure size 1555.08x360 with 1 Axes>"
      ]
     },
     "metadata": {},
     "output_type": "display_data"
    }
   ],
   "source": [
    "sns.catplot(x='Quantity', y='Unit price', hue='Customer type', data=DF, aspect=4, kind='point')"
   ]
  },
  {
   "cell_type": "markdown",
   "metadata": {},
   "source": [
    "An attempt to assess if customer type has an effect on the relationship between unit price and quantity purchased.\n",
    "This shows no significant direct influence,and further strengthens the previous insight that prices do not necesarily influence purchase decisions."
   ]
  },
  {
   "cell_type": "code",
   "execution_count": null,
   "metadata": {},
   "outputs": [],
   "source": []
  }
 ],
 "metadata": {
  "kernelspec": {
   "display_name": "Python 3",
   "language": "python",
   "name": "python3"
  },
  "language_info": {
   "codemirror_mode": {
    "name": "ipython",
    "version": 3
   },
   "file_extension": ".py",
   "mimetype": "text/x-python",
   "name": "python",
   "nbconvert_exporter": "python",
   "pygments_lexer": "ipython3",
   "version": "3.8.5"
  }
 },
 "nbformat": 4,
 "nbformat_minor": 4
}
